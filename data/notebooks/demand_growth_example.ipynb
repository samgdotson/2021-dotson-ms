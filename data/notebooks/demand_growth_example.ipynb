{
 "cells": [
  {
   "cell_type": "code",
   "execution_count": 1,
   "metadata": {},
   "outputs": [],
   "source": [
    "import numpy as np\n",
    "import matplotlib.pyplot as plt\n",
    "import pandas as pd\n",
    "from pygenesys.utils.growth_model import *\n",
    "\n",
    "import matplotlib as mpl\n",
    "mpl.use(\"pgf\")\n",
    "plt.rcParams['pgf.texsystem'] = 'pdflatex'\n",
    "plt.rcParams['pgf.rcfonts'] = False\n",
    "plt.rcParams['figure.edgecolor'] = 'k'\n",
    "plt.rcParams['figure.facecolor'] = 'w'\n",
    "plt.rcParams['savefig.dpi'] = 400\n",
    "plt.rcParams['savefig.bbox'] = 'tight'\n",
    "plt.rcParams['text.usetex'] = True\n",
    "plt.rcParams['font.family'] = \"serif\""
   ]
  },
  {
   "cell_type": "code",
   "execution_count": 2,
   "metadata": {},
   "outputs": [
    {
     "name": "stdout",
     "output_type": "stream",
     "text": [
      "Help on function linear_growth in module pygenesys.utils.growth_model:\n",
      "\n",
      "linear_growth(init_value, start_year, end_year, N_years, growth_rate)\n",
      "    This function returns a numpy array representing the growth\n",
      "    of a quantity in each given year. Use this function if the growth\n",
      "    is expected to be linear.\n",
      "    \n",
      "    Parameters\n",
      "    ----------\n",
      "    init_value : float\n",
      "        The initial value.\n",
      "    start_year : integer\n",
      "        The first year of the simulation.\n",
      "    end_year : integer\n",
      "        The last year of the simulation\n",
      "    N_years : integer\n",
      "        The number of years simulated between ``start_year`` and\n",
      "        ``end_year``.\n",
      "    growth_rate : float\n",
      "        The rate of growth for the given quantity.\n",
      "    \n",
      "    Returns\n",
      "    -------\n",
      "    growth_data : numpy array\n",
      "        An array of the value for each year in a simulation.\n",
      "\n"
     ]
    }
   ],
   "source": [
    "help(linear_growth)"
   ]
  },
  {
   "cell_type": "code",
   "execution_count": 3,
   "metadata": {},
   "outputs": [
    {
     "name": "stdout",
     "output_type": "stream",
     "text": [
      "Help on function exponential_growth in module pygenesys.utils.growth_model:\n",
      "\n",
      "exponential_growth(init_value, start_year, end_year, N_years, growth_rate)\n",
      "    This function returns a numpy array representing the growth\n",
      "    of a quantity in each given year. Use this function if the growth\n",
      "    is expected to be linear.\n",
      "    \n",
      "    Parameters\n",
      "    ----------\n",
      "    init_value : float\n",
      "        The initial value.\n",
      "    start_year : integer\n",
      "        The first year of the simulation.\n",
      "    end_year : integer\n",
      "        The last year of the simulation.\n",
      "    N_years : integer\n",
      "        The number of years simulated between ``start_year`` and\n",
      "        ``end_year``.\n",
      "    growth_rate : float\n",
      "        The rate of growth for the given quantity.\n",
      "    \n",
      "    Returns\n",
      "    -------\n",
      "    growth_data : numpy array\n",
      "        An array of the value for each year in a simulation.\n",
      "\n"
     ]
    }
   ],
   "source": [
    "help(exponential_growth)"
   ]
  },
  {
   "cell_type": "code",
   "execution_count": 4,
   "metadata": {},
   "outputs": [],
   "source": [
    "demand_2018 = 187\n",
    "start_year = 2020\n",
    "end_year = 2050\n",
    "N_years = 6\n",
    "years = np.linspace(start_year, end_year, N_years).astype('int')\n",
    "growth_rates = np.array([-0.03, -0.01, 0.01, 0.02, 0.05])"
   ]
  },
  {
   "cell_type": "code",
   "execution_count": 5,
   "metadata": {},
   "outputs": [],
   "source": [
    "fig, ax = plt.subplots(1,1, figsize=(12,9), facecolor='w', edgecolor='k')\n",
    "colors = {0:'tab:blue',1:'tab:red',2:'tab:green',3:'tab:orange',4:'tab:purple'}\n",
    "for i,g in enumerate(growth_rates):\n",
    "    exp = exponential_growth(demand_2018, start_year, end_year, N_years, g)\n",
    "    lin = linear_growth(demand_2018, start_year, end_year, N_years, g)\n",
    "    ax.plot(years, exp, linestyle='--',\n",
    "            label=f'Exponential Growth: {g*100}%/yr', marker='o', color=colors[i])    \n",
    "    ax.plot(years, lin, linestyle='-',\n",
    "            label=f'Linear Growth: {g*100}%/yr', marker='^', color=colors[i])\n",
    "    width=1/len(growth_rates)\n",
    "#     ax.bar(years+i,exp, color=colors[i])\n",
    "ax.set_facecolor('lightgray')\n",
    "ax.minorticks_on()\n",
    "# ax.grid(which='minor', linestyle='--', color='gray', alpha=0.4)\n",
    "ax.grid(which='major', linestyle='-', color='w', alpha=0.4)\n",
    "ax.legend(loc='upper left', fancybox=True, shadow=True, facecolor='lightgray',fontsize=14, edgecolor='k')\n",
    "ax.set_xlim(start_year, end_year)\n",
    "ax.set_ylim(0,900)\n",
    "ax.tick_params(axis='both', which='major', labelsize=14)\n",
    "ax.set_ylabel('Electricity Demand [TWh]', fontsize=16)\n",
    "ax.set_xlabel('Year', fontsize=16)\n",
    "plt.savefig('../../thesis/figures/demand_growth_example.pgf')"
   ]
  },
  {
   "cell_type": "code",
   "execution_count": null,
   "metadata": {},
   "outputs": [],
   "source": []
  }
 ],
 "metadata": {
  "kernelspec": {
   "display_name": "Python 3",
   "language": "python",
   "name": "python3"
  },
  "language_info": {
   "codemirror_mode": {
    "name": "ipython",
    "version": 3
   },
   "file_extension": ".py",
   "mimetype": "text/x-python",
   "name": "python",
   "nbconvert_exporter": "python",
   "pygments_lexer": "ipython3",
   "version": "3.8.3"
  }
 },
 "nbformat": 4,
 "nbformat_minor": 4
}
