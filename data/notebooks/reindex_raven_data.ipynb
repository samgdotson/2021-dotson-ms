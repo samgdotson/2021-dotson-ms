{
 "cells": [
  {
   "cell_type": "code",
   "execution_count": 1,
   "metadata": {},
   "outputs": [],
   "source": [
    "import pandas as pd\n",
    "import numpy as np\n",
    "import matplotlib.pyplot as plt\n",
    "import os, glob"
   ]
  },
  {
   "cell_type": "code",
   "execution_count": 2,
   "metadata": {},
   "outputs": [],
   "source": [
    "# wind_path = \"../railsplitterHistories/*Histories_*.csv\"\n",
    "# solar_path = \"../solarHistories/*Histories_*.csv\"\n",
    "solar_path = \"../raven_solar/*Histories_*.csv\"\n",
    "\n",
    "solarfiles = glob.glob(solar_path, recursive=True)\n",
    "solarfiles.sort()\n",
    "# windfiles = glob.glob(wind_path, recursive=True)\n",
    "# windfiles.sort()"
   ]
  },
  {
   "cell_type": "code",
   "execution_count": 3,
   "metadata": {},
   "outputs": [
    {
     "data": {
      "text/plain": [
       "['../raven_solar/solarHistories_0.csv',\n",
       " '../raven_solar/solarHistories_1.csv',\n",
       " '../raven_solar/solarHistories_2.csv',\n",
       " '../raven_solar/solarHistories_3.csv',\n",
       " '../raven_solar/solarHistories_4.csv',\n",
       " '../raven_solar/solarHistories_5.csv',\n",
       " '../raven_solar/solarHistories_6.csv',\n",
       " '../raven_solar/solarHistories_7.csv',\n",
       " '../raven_solar/solarHistories_8.csv',\n",
       " '../raven_solar/solarHistories_9.csv']"
      ]
     },
     "execution_count": 3,
     "metadata": {},
     "output_type": "execute_result"
    }
   ],
   "source": [
    "solarfiles"
   ]
  },
  {
   "cell_type": "code",
   "execution_count": 4,
   "metadata": {},
   "outputs": [
    {
     "data": {
      "text/plain": [
       "DatetimeIndex(['2019-01-01 00:00:00', '2019-01-01 01:00:00',\n",
       "               '2019-01-01 02:00:00', '2019-01-01 03:00:00',\n",
       "               '2019-01-01 04:00:00', '2019-01-01 05:00:00',\n",
       "               '2019-01-01 06:00:00', '2019-01-01 07:00:00',\n",
       "               '2019-01-01 08:00:00', '2019-01-01 09:00:00',\n",
       "               ...\n",
       "               '2019-12-31 14:00:00', '2019-12-31 15:00:00',\n",
       "               '2019-12-31 16:00:00', '2019-12-31 17:00:00',\n",
       "               '2019-12-31 18:00:00', '2019-12-31 19:00:00',\n",
       "               '2019-12-31 20:00:00', '2019-12-31 21:00:00',\n",
       "               '2019-12-31 22:00:00', '2019-12-31 23:00:00'],\n",
       "              dtype='datetime64[ns]', length=8760, freq='H')"
      ]
     },
     "execution_count": 4,
     "metadata": {},
     "output_type": "execute_result"
    }
   ],
   "source": [
    "yearhours = pd.date_range(start='2019', end='2020', freq='H')[:8760]\n",
    "yearhours"
   ]
  },
  {
   "cell_type": "code",
   "execution_count": 5,
   "metadata": {},
   "outputs": [
    {
     "data": {
      "text/html": [
       "<div>\n",
       "<style scoped>\n",
       "    .dataframe tbody tr th:only-of-type {\n",
       "        vertical-align: middle;\n",
       "    }\n",
       "\n",
       "    .dataframe tbody tr th {\n",
       "        vertical-align: top;\n",
       "    }\n",
       "\n",
       "    .dataframe thead th {\n",
       "        text-align: right;\n",
       "    }\n",
       "</style>\n",
       "<table border=\"1\" class=\"dataframe\">\n",
       "  <thead>\n",
       "    <tr style=\"text-align: right;\">\n",
       "      <th></th>\n",
       "      <th>time</th>\n",
       "      <th>kw</th>\n",
       "      <th>year</th>\n",
       "    </tr>\n",
       "  </thead>\n",
       "  <tbody>\n",
       "    <tr>\n",
       "      <th>0</th>\n",
       "      <td>0.0</td>\n",
       "      <td>0.0</td>\n",
       "      <td>2019-01-01 00:00:00</td>\n",
       "    </tr>\n",
       "    <tr>\n",
       "      <th>1</th>\n",
       "      <td>1.0</td>\n",
       "      <td>0.0</td>\n",
       "      <td>2019-01-01 01:00:00</td>\n",
       "    </tr>\n",
       "    <tr>\n",
       "      <th>2</th>\n",
       "      <td>2.0</td>\n",
       "      <td>0.0</td>\n",
       "      <td>2019-01-01 02:00:00</td>\n",
       "    </tr>\n",
       "    <tr>\n",
       "      <th>3</th>\n",
       "      <td>3.0</td>\n",
       "      <td>0.0</td>\n",
       "      <td>2019-01-01 03:00:00</td>\n",
       "    </tr>\n",
       "    <tr>\n",
       "      <th>4</th>\n",
       "      <td>4.0</td>\n",
       "      <td>0.0</td>\n",
       "      <td>2019-01-01 04:00:00</td>\n",
       "    </tr>\n",
       "    <tr>\n",
       "      <th>...</th>\n",
       "      <td>...</td>\n",
       "      <td>...</td>\n",
       "      <td>...</td>\n",
       "    </tr>\n",
       "    <tr>\n",
       "      <th>8755</th>\n",
       "      <td>8755.0</td>\n",
       "      <td>0.0</td>\n",
       "      <td>2019-12-31 19:00:00</td>\n",
       "    </tr>\n",
       "    <tr>\n",
       "      <th>8756</th>\n",
       "      <td>8756.0</td>\n",
       "      <td>0.0</td>\n",
       "      <td>2019-12-31 20:00:00</td>\n",
       "    </tr>\n",
       "    <tr>\n",
       "      <th>8757</th>\n",
       "      <td>8757.0</td>\n",
       "      <td>0.0</td>\n",
       "      <td>2019-12-31 21:00:00</td>\n",
       "    </tr>\n",
       "    <tr>\n",
       "      <th>8758</th>\n",
       "      <td>8758.0</td>\n",
       "      <td>0.0</td>\n",
       "      <td>2019-12-31 22:00:00</td>\n",
       "    </tr>\n",
       "    <tr>\n",
       "      <th>8759</th>\n",
       "      <td>8759.0</td>\n",
       "      <td>0.0</td>\n",
       "      <td>2019-12-31 23:00:00</td>\n",
       "    </tr>\n",
       "  </tbody>\n",
       "</table>\n",
       "<p>8760 rows × 3 columns</p>\n",
       "</div>"
      ],
      "text/plain": [
       "        time   kw                year\n",
       "0        0.0  0.0 2019-01-01 00:00:00\n",
       "1        1.0  0.0 2019-01-01 01:00:00\n",
       "2        2.0  0.0 2019-01-01 02:00:00\n",
       "3        3.0  0.0 2019-01-01 03:00:00\n",
       "4        4.0  0.0 2019-01-01 04:00:00\n",
       "...      ...  ...                 ...\n",
       "8755  8755.0  0.0 2019-12-31 19:00:00\n",
       "8756  8756.0  0.0 2019-12-31 20:00:00\n",
       "8757  8757.0  0.0 2019-12-31 21:00:00\n",
       "8758  8758.0  0.0 2019-12-31 22:00:00\n",
       "8759  8759.0  0.0 2019-12-31 23:00:00\n",
       "\n",
       "[8760 rows x 3 columns]"
      ]
     },
     "execution_count": 5,
     "metadata": {},
     "output_type": "execute_result"
    }
   ],
   "source": [
    "df = pd.read_csv(solarfiles[5])\n",
    "df['year'] = yearhours\n",
    "df"
   ]
  },
  {
   "cell_type": "code",
   "execution_count": 6,
   "metadata": {},
   "outputs": [
    {
     "data": {
      "text/html": [
       "<div>\n",
       "<style scoped>\n",
       "    .dataframe tbody tr th:only-of-type {\n",
       "        vertical-align: middle;\n",
       "    }\n",
       "\n",
       "    .dataframe tbody tr th {\n",
       "        vertical-align: top;\n",
       "    }\n",
       "\n",
       "    .dataframe thead th {\n",
       "        text-align: right;\n",
       "    }\n",
       "</style>\n",
       "<table border=\"1\" class=\"dataframe\">\n",
       "  <thead>\n",
       "    <tr style=\"text-align: right;\">\n",
       "      <th></th>\n",
       "      <th>kw</th>\n",
       "    </tr>\n",
       "    <tr>\n",
       "      <th>year</th>\n",
       "      <th></th>\n",
       "    </tr>\n",
       "  </thead>\n",
       "  <tbody>\n",
       "    <tr>\n",
       "      <th>2019-01-01 00:00:00</th>\n",
       "      <td>0.0</td>\n",
       "    </tr>\n",
       "    <tr>\n",
       "      <th>2019-01-01 01:00:00</th>\n",
       "      <td>0.0</td>\n",
       "    </tr>\n",
       "    <tr>\n",
       "      <th>2019-01-01 02:00:00</th>\n",
       "      <td>0.0</td>\n",
       "    </tr>\n",
       "    <tr>\n",
       "      <th>2019-01-01 03:00:00</th>\n",
       "      <td>0.0</td>\n",
       "    </tr>\n",
       "    <tr>\n",
       "      <th>2019-01-01 04:00:00</th>\n",
       "      <td>0.0</td>\n",
       "    </tr>\n",
       "    <tr>\n",
       "      <th>...</th>\n",
       "      <td>...</td>\n",
       "    </tr>\n",
       "    <tr>\n",
       "      <th>2019-12-31 19:00:00</th>\n",
       "      <td>0.0</td>\n",
       "    </tr>\n",
       "    <tr>\n",
       "      <th>2019-12-31 20:00:00</th>\n",
       "      <td>0.0</td>\n",
       "    </tr>\n",
       "    <tr>\n",
       "      <th>2019-12-31 21:00:00</th>\n",
       "      <td>0.0</td>\n",
       "    </tr>\n",
       "    <tr>\n",
       "      <th>2019-12-31 22:00:00</th>\n",
       "      <td>0.0</td>\n",
       "    </tr>\n",
       "    <tr>\n",
       "      <th>2019-12-31 23:00:00</th>\n",
       "      <td>0.0</td>\n",
       "    </tr>\n",
       "  </tbody>\n",
       "</table>\n",
       "<p>8760 rows × 1 columns</p>\n",
       "</div>"
      ],
      "text/plain": [
       "                      kw\n",
       "year                    \n",
       "2019-01-01 00:00:00  0.0\n",
       "2019-01-01 01:00:00  0.0\n",
       "2019-01-01 02:00:00  0.0\n",
       "2019-01-01 03:00:00  0.0\n",
       "2019-01-01 04:00:00  0.0\n",
       "...                  ...\n",
       "2019-12-31 19:00:00  0.0\n",
       "2019-12-31 20:00:00  0.0\n",
       "2019-12-31 21:00:00  0.0\n",
       "2019-12-31 22:00:00  0.0\n",
       "2019-12-31 23:00:00  0.0\n",
       "\n",
       "[8760 rows x 1 columns]"
      ]
     },
     "execution_count": 6,
     "metadata": {},
     "output_type": "execute_result"
    }
   ],
   "source": [
    "# df = df.set_index('year').drop(columns=['time','power_norm'])\n",
    "df = df.set_index('year').drop(columns=['time'])\n",
    "df"
   ]
  },
  {
   "cell_type": "code",
   "execution_count": 7,
   "metadata": {},
   "outputs": [
    {
     "data": {
      "text/plain": [
       "<AxesSubplot:xlabel='year'>"
      ]
     },
     "execution_count": 7,
     "metadata": {},
     "output_type": "execute_result"
    },
    {
     "data": {
      "image/png": "[encoded data removed]",
      "text/plain": [
       "<Figure size 432x288 with 1 Axes>"
      ]
     },
     "metadata": {
      "needs_background": "light"
     },
     "output_type": "display_data"
    }
   ],
   "source": [
    "df.plot()"
   ]
  },
  {
   "cell_type": "code",
   "execution_count": 8,
   "metadata": {},
   "outputs": [
    {
     "name": "stdout",
     "output_type": "stream",
     "text": [
      "                kw\n",
      "count  8760.000000\n",
      "mean    960.080685\n",
      "std    1309.328955\n",
      "min       0.000000\n",
      "25%       0.000000\n",
      "50%     101.999326\n",
      "75%    1658.464148\n",
      "max    4964.755170\n",
      "                kw\n",
      "count  8760.000000\n",
      "mean    938.166308\n",
      "std    1294.219252\n",
      "min       0.000000\n",
      "25%       0.000000\n",
      "50%      76.344093\n",
      "75%    1651.625518\n",
      "max    4955.148772\n",
      "                kw\n",
      "count  8760.000000\n",
      "mean    978.618921\n",
      "std    1326.543883\n",
      "min       0.000000\n",
      "25%       0.000000\n",
      "50%      96.648245\n",
      "75%    1662.596882\n",
      "max    4964.275648\n",
      "                kw\n",
      "count  8760.000000\n",
      "mean    865.146159\n",
      "std    1209.945265\n",
      "min       0.000000\n",
      "25%       0.000000\n",
      "50%      72.583011\n",
      "75%    1625.290484\n",
      "max    4930.355799\n",
      "                kw\n",
      "count  8760.000000\n",
      "mean    981.596088\n",
      "std    1333.061801\n",
      "min       0.000000\n",
      "25%       0.000000\n",
      "50%      85.618293\n",
      "75%    1664.559970\n",
      "max    4959.147494\n",
      "                kw\n",
      "count  8760.000000\n",
      "mean    939.451687\n",
      "std    1282.646573\n",
      "min       0.000000\n",
      "25%       0.000000\n",
      "50%      80.876743\n",
      "75%    1654.951596\n",
      "max    4932.985910\n",
      "                kw\n",
      "count  8760.000000\n",
      "mean    952.908864\n",
      "std    1310.902686\n",
      "min       0.000000\n",
      "25%       0.000000\n",
      "50%      74.504911\n",
      "75%    1656.977329\n",
      "max    4952.941208\n",
      "                kw\n",
      "count  8760.000000\n",
      "mean    925.563103\n",
      "std    1283.210140\n",
      "min       0.000000\n",
      "25%       0.000000\n",
      "50%      73.975564\n",
      "75%    1646.177775\n",
      "max    4959.315551\n",
      "                kw\n",
      "count  8760.000000\n",
      "mean    989.295470\n",
      "std    1337.553597\n",
      "min       0.000000\n",
      "25%       0.000000\n",
      "50%      98.405465\n",
      "75%    1673.582364\n",
      "max    4948.743492\n",
      "                kw\n",
      "count  8760.000000\n",
      "mean    941.655905\n",
      "std    1290.820463\n",
      "min       0.000000\n",
      "25%       0.000000\n",
      "50%      82.753022\n",
      "75%    1652.874577\n",
      "max    4959.146488\n"
     ]
    }
   ],
   "source": [
    "for file in solarfiles:\n",
    "    df = pd.read_csv(file)\n",
    "    df.drop(columns=['time'],inplace=True)\n",
    "    df['time'] = yearhours\n",
    "    df = df.set_index('time')\n",
    "    print(df.describe())\n",
    "    file = file.strip('.csv')\n",
    "    save_name = \"../\"+file+\"_pd.csv\"\n",
    "    df.to_csv(save_name)"
   ]
  },
  {
   "cell_type": "code",
   "execution_count": null,
   "metadata": {},
   "outputs": [],
   "source": []
  }
 ],
 "metadata": {
  "kernelspec": {
   "display_name": "Python 3",
   "language": "python",
   "name": "python3"
  },
  "language_info": {
   "codemirror_mode": {
    "name": "ipython",
    "version": 3
   },
   "file_extension": ".py",
   "mimetype": "text/x-python",
   "name": "python",
   "nbconvert_exporter": "python",
   "pygments_lexer": "ipython3",
   "version": "3.8.3"
  }
 },
 "nbformat": 4,
 "nbformat_minor": 4
}
