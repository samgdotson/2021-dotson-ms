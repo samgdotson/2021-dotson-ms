{
 "cells": [
  {
   "cell_type": "code",
   "execution_count": 1,
   "metadata": {},
   "outputs": [],
   "source": [
    "import pandas as pd\n",
    "import numpy as np\n",
    "import matplotlib.pyplot as plt\n",
    "import os, glob"
   ]
  },
  {
   "cell_type": "code",
   "execution_count": 2,
   "metadata": {},
   "outputs": [],
   "source": [
    "wind_path = \"../railsplitterHistories/*Histories_*.csv\"\n",
    "solar_path = \"../solarHistories/*Histories_*.csv\"\n",
    "\n",
    "solarfiles = glob.glob(solar_path, recursive=True)\n",
    "solarfiles.sort()\n",
    "windfiles = glob.glob(wind_path, recursive=True)\n",
    "windfiles.sort()"
   ]
  },
  {
   "cell_type": "code",
   "execution_count": 3,
   "metadata": {},
   "outputs": [
    {
     "data": {
      "text/plain": [
       "['../railsplitterHistories/RailSplitterHistories_0.csv',\n",
       " '../railsplitterHistories/RailSplitterHistories_1.csv',\n",
       " '../railsplitterHistories/RailSplitterHistories_2.csv',\n",
       " '../railsplitterHistories/RailSplitterHistories_3.csv',\n",
       " '../railsplitterHistories/RailSplitterHistories_4.csv',\n",
       " '../railsplitterHistories/RailSplitterHistories_5.csv',\n",
       " '../railsplitterHistories/RailSplitterHistories_6.csv',\n",
       " '../railsplitterHistories/RailSplitterHistories_7.csv',\n",
       " '../railsplitterHistories/RailSplitterHistories_8.csv',\n",
       " '../railsplitterHistories/RailSplitterHistories_9.csv']"
      ]
     },
     "execution_count": 3,
     "metadata": {},
     "output_type": "execute_result"
    }
   ],
   "source": [
    "windfiles"
   ]
  },
  {
   "cell_type": "code",
   "execution_count": 4,
   "metadata": {},
   "outputs": [
    {
     "data": {
      "text/plain": [
       "DatetimeIndex(['2019-01-01 00:00:00', '2019-01-01 01:00:00',\n",
       "               '2019-01-01 02:00:00', '2019-01-01 03:00:00',\n",
       "               '2019-01-01 04:00:00', '2019-01-01 05:00:00',\n",
       "               '2019-01-01 06:00:00', '2019-01-01 07:00:00',\n",
       "               '2019-01-01 08:00:00', '2019-01-01 09:00:00',\n",
       "               ...\n",
       "               '2019-12-31 14:00:00', '2019-12-31 15:00:00',\n",
       "               '2019-12-31 16:00:00', '2019-12-31 17:00:00',\n",
       "               '2019-12-31 18:00:00', '2019-12-31 19:00:00',\n",
       "               '2019-12-31 20:00:00', '2019-12-31 21:00:00',\n",
       "               '2019-12-31 22:00:00', '2019-12-31 23:00:00'],\n",
       "              dtype='datetime64[ns]', length=8760, freq='H')"
      ]
     },
     "execution_count": 4,
     "metadata": {},
     "output_type": "execute_result"
    }
   ],
   "source": [
    "yearhours = pd.date_range(start='2019', end='2020', freq='H')[:8760]\n",
    "yearhours"
   ]
  },
  {
   "cell_type": "code",
   "execution_count": 34,
   "metadata": {},
   "outputs": [
    {
     "data": {
      "text/html": [
       "<div>\n",
       "<style scoped>\n",
       "    .dataframe tbody tr th:only-of-type {\n",
       "        vertical-align: middle;\n",
       "    }\n",
       "\n",
       "    .dataframe tbody tr th {\n",
       "        vertical-align: top;\n",
       "    }\n",
       "\n",
       "    .dataframe thead th {\n",
       "        text-align: right;\n",
       "    }\n",
       "</style>\n",
       "<table border=\"1\" class=\"dataframe\">\n",
       "  <thead>\n",
       "    <tr style=\"text-align: right;\">\n",
       "      <th></th>\n",
       "      <th>time</th>\n",
       "      <th>power_data</th>\n",
       "      <th>power_norm</th>\n",
       "      <th>year</th>\n",
       "    </tr>\n",
       "  </thead>\n",
       "  <tbody>\n",
       "    <tr>\n",
       "      <th>0</th>\n",
       "      <td>0.0</td>\n",
       "      <td>0.0</td>\n",
       "      <td>-116.801308</td>\n",
       "      <td>2019-01-01 00:00:00</td>\n",
       "    </tr>\n",
       "    <tr>\n",
       "      <th>1</th>\n",
       "      <td>1.0</td>\n",
       "      <td>0.0</td>\n",
       "      <td>-226.075277</td>\n",
       "      <td>2019-01-01 01:00:00</td>\n",
       "    </tr>\n",
       "    <tr>\n",
       "      <th>2</th>\n",
       "      <td>2.0</td>\n",
       "      <td>0.0</td>\n",
       "      <td>-188.775105</td>\n",
       "      <td>2019-01-01 02:00:00</td>\n",
       "    </tr>\n",
       "    <tr>\n",
       "      <th>3</th>\n",
       "      <td>3.0</td>\n",
       "      <td>0.0</td>\n",
       "      <td>-161.912395</td>\n",
       "      <td>2019-01-01 03:00:00</td>\n",
       "    </tr>\n",
       "    <tr>\n",
       "      <th>4</th>\n",
       "      <td>4.0</td>\n",
       "      <td>0.0</td>\n",
       "      <td>-13.282051</td>\n",
       "      <td>2019-01-01 04:00:00</td>\n",
       "    </tr>\n",
       "    <tr>\n",
       "      <th>...</th>\n",
       "      <td>...</td>\n",
       "      <td>...</td>\n",
       "      <td>...</td>\n",
       "      <td>...</td>\n",
       "    </tr>\n",
       "    <tr>\n",
       "      <th>8755</th>\n",
       "      <td>8755.0</td>\n",
       "      <td>0.0</td>\n",
       "      <td>3151.895677</td>\n",
       "      <td>2019-12-31 19:00:00</td>\n",
       "    </tr>\n",
       "    <tr>\n",
       "      <th>8756</th>\n",
       "      <td>8756.0</td>\n",
       "      <td>0.0</td>\n",
       "      <td>3019.487203</td>\n",
       "      <td>2019-12-31 20:00:00</td>\n",
       "    </tr>\n",
       "    <tr>\n",
       "      <th>8757</th>\n",
       "      <td>8757.0</td>\n",
       "      <td>0.0</td>\n",
       "      <td>3000.744375</td>\n",
       "      <td>2019-12-31 21:00:00</td>\n",
       "    </tr>\n",
       "    <tr>\n",
       "      <th>8758</th>\n",
       "      <td>8758.0</td>\n",
       "      <td>0.0</td>\n",
       "      <td>3057.609373</td>\n",
       "      <td>2019-12-31 22:00:00</td>\n",
       "    </tr>\n",
       "    <tr>\n",
       "      <th>8759</th>\n",
       "      <td>8759.0</td>\n",
       "      <td>0.0</td>\n",
       "      <td>3009.703329</td>\n",
       "      <td>2019-12-31 23:00:00</td>\n",
       "    </tr>\n",
       "  </tbody>\n",
       "</table>\n",
       "<p>8760 rows × 4 columns</p>\n",
       "</div>"
      ],
      "text/plain": [
       "        time  power_data   power_norm                year\n",
       "0        0.0         0.0  -116.801308 2019-01-01 00:00:00\n",
       "1        1.0         0.0  -226.075277 2019-01-01 01:00:00\n",
       "2        2.0         0.0  -188.775105 2019-01-01 02:00:00\n",
       "3        3.0         0.0  -161.912395 2019-01-01 03:00:00\n",
       "4        4.0         0.0   -13.282051 2019-01-01 04:00:00\n",
       "...      ...         ...          ...                 ...\n",
       "8755  8755.0         0.0  3151.895677 2019-12-31 19:00:00\n",
       "8756  8756.0         0.0  3019.487203 2019-12-31 20:00:00\n",
       "8757  8757.0         0.0  3000.744375 2019-12-31 21:00:00\n",
       "8758  8758.0         0.0  3057.609373 2019-12-31 22:00:00\n",
       "8759  8759.0         0.0  3009.703329 2019-12-31 23:00:00\n",
       "\n",
       "[8760 rows x 4 columns]"
      ]
     },
     "execution_count": 34,
     "metadata": {},
     "output_type": "execute_result"
    }
   ],
   "source": [
    "df = pd.read_csv(solarfiles[5])\n",
    "df['year'] = yearhours\n",
    "df"
   ]
  },
  {
   "cell_type": "code",
   "execution_count": 35,
   "metadata": {},
   "outputs": [
    {
     "data": {
      "text/html": [
       "<div>\n",
       "<style scoped>\n",
       "    .dataframe tbody tr th:only-of-type {\n",
       "        vertical-align: middle;\n",
       "    }\n",
       "\n",
       "    .dataframe tbody tr th {\n",
       "        vertical-align: top;\n",
       "    }\n",
       "\n",
       "    .dataframe thead th {\n",
       "        text-align: right;\n",
       "    }\n",
       "</style>\n",
       "<table border=\"1\" class=\"dataframe\">\n",
       "  <thead>\n",
       "    <tr style=\"text-align: right;\">\n",
       "      <th></th>\n",
       "      <th>power_data</th>\n",
       "    </tr>\n",
       "    <tr>\n",
       "      <th>year</th>\n",
       "      <th></th>\n",
       "    </tr>\n",
       "  </thead>\n",
       "  <tbody>\n",
       "    <tr>\n",
       "      <th>2019-01-01 00:00:00</th>\n",
       "      <td>0.0</td>\n",
       "    </tr>\n",
       "    <tr>\n",
       "      <th>2019-01-01 01:00:00</th>\n",
       "      <td>0.0</td>\n",
       "    </tr>\n",
       "    <tr>\n",
       "      <th>2019-01-01 02:00:00</th>\n",
       "      <td>0.0</td>\n",
       "    </tr>\n",
       "    <tr>\n",
       "      <th>2019-01-01 03:00:00</th>\n",
       "      <td>0.0</td>\n",
       "    </tr>\n",
       "    <tr>\n",
       "      <th>2019-01-01 04:00:00</th>\n",
       "      <td>0.0</td>\n",
       "    </tr>\n",
       "    <tr>\n",
       "      <th>...</th>\n",
       "      <td>...</td>\n",
       "    </tr>\n",
       "    <tr>\n",
       "      <th>2019-12-31 19:00:00</th>\n",
       "      <td>0.0</td>\n",
       "    </tr>\n",
       "    <tr>\n",
       "      <th>2019-12-31 20:00:00</th>\n",
       "      <td>0.0</td>\n",
       "    </tr>\n",
       "    <tr>\n",
       "      <th>2019-12-31 21:00:00</th>\n",
       "      <td>0.0</td>\n",
       "    </tr>\n",
       "    <tr>\n",
       "      <th>2019-12-31 22:00:00</th>\n",
       "      <td>0.0</td>\n",
       "    </tr>\n",
       "    <tr>\n",
       "      <th>2019-12-31 23:00:00</th>\n",
       "      <td>0.0</td>\n",
       "    </tr>\n",
       "  </tbody>\n",
       "</table>\n",
       "<p>8760 rows × 1 columns</p>\n",
       "</div>"
      ],
      "text/plain": [
       "                     power_data\n",
       "year                           \n",
       "2019-01-01 00:00:00         0.0\n",
       "2019-01-01 01:00:00         0.0\n",
       "2019-01-01 02:00:00         0.0\n",
       "2019-01-01 03:00:00         0.0\n",
       "2019-01-01 04:00:00         0.0\n",
       "...                         ...\n",
       "2019-12-31 19:00:00         0.0\n",
       "2019-12-31 20:00:00         0.0\n",
       "2019-12-31 21:00:00         0.0\n",
       "2019-12-31 22:00:00         0.0\n",
       "2019-12-31 23:00:00         0.0\n",
       "\n",
       "[8760 rows x 1 columns]"
      ]
     },
     "execution_count": 35,
     "metadata": {},
     "output_type": "execute_result"
    }
   ],
   "source": [
    "df = df.set_index('year').drop(columns=['time','power_norm'])\n",
    "df"
   ]
  },
  {
   "cell_type": "code",
   "execution_count": 36,
   "metadata": {},
   "outputs": [
    {
     "data": {
      "text/plain": [
       "<AxesSubplot:xlabel='year'>"
      ]
     },
     "execution_count": 36,
     "metadata": {},
     "output_type": "execute_result"
    },
    {
     "data": {
      "image/png": "[encoded data removed]",
      "text/plain": [
       "<Figure size 432x288 with 1 Axes>"
      ]
     },
     "metadata": {
      "needs_background": "light"
     },
     "output_type": "display_data"
    }
   ],
   "source": [
    "df.plot()"
   ]
  },
  {
   "cell_type": "code",
   "execution_count": 43,
   "metadata": {},
   "outputs": [],
   "source": [
    "for file in solarfiles:\n",
    "    df = pd.read_csv(file)\n",
    "    df.drop(columns=['time','power_norm'],inplace=True)\n",
    "    df['time'] = yearhours\n",
    "    df = df.set_index('time')\n",
    "    file = file.strip('.csv')\n",
    "    save_name = \"../\"+file+\"_pd.csv\"\n",
    "    df.to_csv(save_name)"
   ]
  },
  {
   "cell_type": "code",
   "execution_count": null,
   "metadata": {},
   "outputs": [],
   "source": []
  }
 ],
 "metadata": {
  "kernelspec": {
   "display_name": "Python 3",
   "language": "python",
   "name": "python3"
  },
  "language_info": {
   "codemirror_mode": {
    "name": "ipython",
    "version": 3
   },
   "file_extension": ".py",
   "mimetype": "text/x-python",
   "name": "python",
   "nbconvert_exporter": "python",
   "pygments_lexer": "ipython3",
   "version": "3.8.3"
  }
 },
 "nbformat": 4,
 "nbformat_minor": 4
}
