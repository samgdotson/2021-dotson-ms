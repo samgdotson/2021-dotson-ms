{
 "cells": [
  {
   "cell_type": "code",
   "execution_count": 1,
   "metadata": {},
   "outputs": [],
   "source": [
    "import sqlite3\n",
    "import pandas as pd\n",
    "import numpy as np\n",
    "import matplotlib.pyplot as plt\n",
    "from matplotlib.ticker import (MultipleLocator, AutoMinorLocator)\n",
    "import pygenesys as pg\n",
    "from plotter import *\n",
    "plt.style.use('ggplot')\n",
    "plt.rcParams['figure.figsize'] = (12,12)"
   ]
  },
  {
   "cell_type": "code",
   "execution_count": 2,
   "metadata": {},
   "outputs": [],
   "source": [
    "sim_path = \"../simulations/uiuc/data_files/UIUC_UIUC_SLACK01_52.sqlite\"\n",
    "\n",
    "conn = sqlite3.connect(sim_path)\n",
    "cursor = conn.cursor()\n",
    "\n",
    "sc = \"UIUC_SLACK01\""
   ]
  },
  {
   "cell_type": "markdown",
   "metadata": {},
   "source": [
    "plot_electricity_profiles(conn,'UIUC','ELC', scenario=sc)"
   ]
  },
  {
   "cell_type": "code",
   "execution_count": 3,
   "metadata": {},
   "outputs": [],
   "source": [
    "import pandas as pd\n",
    "import matplotlib.pyplot as plt\n",
    "import numpy as np\n",
    "import matplotlib as mpl\n",
    "mpl.use(\"pgf\")\n",
    "plt.rcParams['pgf.texsystem'] = 'pdflatex'\n",
    "plt.rcParams['pgf.rcfonts'] = False\n",
    "plt.rcParams['figure.edgecolor'] = 'k'\n",
    "plt.rcParams['figure.facecolor'] = 'w'\n",
    "plt.rcParams['savefig.dpi'] = 400\n",
    "plt.rcParams['savefig.bbox'] = 'tight'\n",
    "plt.rcParams['text.usetex'] = True\n",
    "plt.rcParams['font.family'] = \"serif\""
   ]
  },
  {
   "cell_type": "code",
   "execution_count": 6,
   "metadata": {
    "scrolled": false
   },
   "outputs": [
    {
     "name": "stderr",
     "output_type": "stream",
     "text": [
      "<ipython-input-6-761c60853d07>:20: UserWarning: Matplotlib is currently using pgf, which is a non-GUI backend, so cannot show the figure.\n",
      "  plt.show()\n",
      "<ipython-input-6-761c60853d07>:39: UserWarning: Matplotlib is currently using pgf, which is a non-GUI backend, so cannot show the figure.\n",
      "  plt.show()\n"
     ]
    }
   ],
   "source": [
    "fig, ax = plt.subplots()\n",
    "cap_df = get_annual_capacity(conn, 'UIUC', 'ELC', scenario=sc)\n",
    "(cap_df/1000).plot(kind='bar', stacked=True, color=elc_colors,ax=ax, alpha=0.99, legend=False)\n",
    "hatches = ''.join(h*len(cap_df) for h in 'xO/.*+')\n",
    "bars = ax.patches\n",
    "for bar, hatch in zip(bars, hatches):\n",
    "    bar.set_hatch(hatch)\n",
    "    bar.set_alpha(0.99)\n",
    "ax.legend()\n",
    "plt.title('UIUC Electric Capacity', fontsize=24)\n",
    "plt.ylabel('Capacity [GW]', fontsize=20)\n",
    "# plt.minorticks_on()\n",
    "plt.xticks(fontsize=16)\n",
    "plt.yticks(fontsize=16)\n",
    "plt.xlabel('')\n",
    "# plt.legend(fontsize=16, shadow=True, fancybox=True, loc=(1.05,0.5))\n",
    "plt.legend(fontsize=16, shadow=True, fancybox=True)\n",
    "# plt.tight_layout()\n",
    "plt.savefig('../thesis/figures/uiuc_elc_cap.pgf')\n",
    "plt.show()\n",
    "fig, ax = plt.subplots()\n",
    "gen_df = get_annual_generation(conn, 'UIUC', 'ELC', scenario=sc)\n",
    "(gen_df).plot(kind='bar', stacked=True, color=elc_colors, legend=False, ax=ax)\n",
    "bars = ax.patches\n",
    "for bar, hatch in zip(bars, hatches):\n",
    "    bar.set_hatch(hatch)\n",
    "    bar.set_alpha(0.99)\n",
    "ax.legend()\n",
    "plt.title('UIUC Annual Electric Generation', fontsize=24)\n",
    "plt.ylabel('Generation [GWh]', fontsize=20)\n",
    "# plt.minorticks_on()\n",
    "plt.xticks(fontsize=16)\n",
    "plt.yticks(fontsize=16)\n",
    "plt.xlabel('')\n",
    "# plt.legend(fontsize=16, shadow=True, fancybox=True, loc=(1.05,0.5))\n",
    "plt.legend(fontsize=16, shadow=True, fancybox=True)\n",
    "# plt.tight_layout()\n",
    "plt.savefig('../thesis/figures/uiuc_elc_gen.pgf')\n",
    "plt.show()"
   ]
  },
  {
   "cell_type": "code",
   "execution_count": 7,
   "metadata": {},
   "outputs": [
    {
     "name": "stderr",
     "output_type": "stream",
     "text": [
      "<ipython-input-7-fefa7ec5c22b>:19: UserWarning: Matplotlib is currently using pgf, which is a non-GUI backend, so cannot show the figure.\n",
      "  plt.show()\n"
     ]
    }
   ],
   "source": [
    "fig, ax = plt.subplots()\n",
    "cap_df = get_annual_capacity(conn, 'UIUC', ['STM','NUC_STM'], scenario=sc)\n",
    "(cap_df/1000).plot(kind='bar', stacked=True, color=elc_colors, legend=False, ax=ax, alpha=0.99)\n",
    "bars = ax.patches\n",
    "for bar, hatch in zip(bars, hatches):\n",
    "    bar.set_hatch(hatch)\n",
    "    bar.set_alpha(0.99)\n",
    "ax.legend()\n",
    "plt.title('UIUC Thermal Capacity', fontsize=24)\n",
    "plt.ylabel(r'Capacity [GW$_{th}$]', fontsize=20)\n",
    "# plt.minorticks_on()\n",
    "plt.xticks(fontsize=16)\n",
    "plt.yticks(fontsize=16)\n",
    "plt.xlabel('')\n",
    "# plt.legend(fontsize=16, shadow=True, fancybox=True, loc=(1.05,0.5))\n",
    "plt.legend(fontsize=16, shadow=True, fancybox=True)\n",
    "# plt.tight_layout()\n",
    "plt.savefig('../thesis/figures/uiuc_thm_cap.pgf')\n",
    "plt.show()\n",
    "# gen_df = get_annual_generation(conn, 'UIUC', 'ELC', scenario=sc)\n",
    "# (gen_df).plot(kind='bar', stacked=True, color=elc_colors)\n",
    "# plt.title('UIUC Annual Electric Generation', fontsize=24)\n",
    "# plt.ylabel('Generation [GWh]', fontsize=20)\n",
    "# # plt.minorticks_on()\n",
    "# plt.xticks(fontsize=16)\n",
    "# plt.yticks(fontsize=16)\n",
    "# plt.xlabel('')\n",
    "# # plt.legend(fontsize=16, shadow=True, fancybox=True, loc=(1.05,0.5))\n",
    "# plt.legend(fontsize=16, shadow=True, fancybox=True)\n",
    "# # plt.tight_layout()\n",
    "# plt.savefig('thesis/figures/uiuc_elc_gen.pgf')\n",
    "# plt.show()"
   ]
  },
  {
   "cell_type": "code",
   "execution_count": 8,
   "metadata": {},
   "outputs": [
    {
     "name": "stderr",
     "output_type": "stream",
     "text": [
      "<ipython-input-8-0b9c89956fa2>:19: UserWarning: Matplotlib is currently using pgf, which is a non-GUI backend, so cannot show the figure.\n",
      "  plt.show()\n"
     ]
    }
   ],
   "source": [
    "fig, ax = plt.subplots()\n",
    "cap_df = get_annual_capacity(conn, 'UIUC', 'CHW', scenario=sc)\n",
    "(cap_df).plot(kind='bar', stacked=True, color=elc_colors, ax=ax, legend=False)\n",
    "bars = ax.patches\n",
    "for bar, hatch in zip(bars, hatches):\n",
    "    bar.set_hatch(hatch)\n",
    "    bar.set_alpha(0.99)\n",
    "ax.legend()\n",
    "plt.title('UIUC Cooling Capacity', fontsize=24)\n",
    "plt.ylabel(r'Capacity [Tons of Refrigeration]', fontsize=20)\n",
    "# plt.minorticks_on()\n",
    "plt.xticks(fontsize=16)\n",
    "plt.yticks(fontsize=16)\n",
    "plt.xlabel('')\n",
    "# plt.legend(fontsize=16, shadow=True, fancybox=True, loc=(1.05,0.5))\n",
    "plt.legend(fontsize=16, shadow=True, fancybox=True)\n",
    "# plt.tight_layout()\n",
    "plt.savefig('../thesis/figures/uiuc_chw_cap.pgf')\n",
    "plt.show()\n",
    "# gen_df = get_annual_generation(conn, 'UIUC', 'ELC', scenario=sc)\n",
    "# (gen_df).plot(kind='bar', stacked=True, color=elc_colors)\n",
    "# plt.title('UIUC Annual Electric Generation', fontsize=24)\n",
    "# plt.ylabel('Generation [GWh]', fontsize=20)\n",
    "# # plt.minorticks_on()\n",
    "# plt.xticks(fontsize=16)\n",
    "# plt.yticks(fontsize=16)\n",
    "# plt.xlabel('')\n",
    "# # plt.legend(fontsize=16, shadow=True, fancybox=True, loc=(1.05,0.5))\n",
    "# plt.legend(fontsize=16, shadow=True, fancybox=True)\n",
    "# # plt.tight_layout()\n",
    "# plt.savefig('thesis/figures/uiuc_elc_gen.pgf')\n",
    "# plt.show()"
   ]
  },
  {
   "cell_type": "code",
   "execution_count": null,
   "metadata": {},
   "outputs": [],
   "source": []
  }
 ],
 "metadata": {
  "kernelspec": {
   "display_name": "Python 3",
   "language": "python",
   "name": "python3"
  },
  "language_info": {
   "codemirror_mode": {
    "name": "ipython",
    "version": 3
   },
   "file_extension": ".py",
   "mimetype": "text/x-python",
   "name": "python",
   "nbconvert_exporter": "python",
   "pygments_lexer": "ipython3",
   "version": "3.8.3"
  }
 },
 "nbformat": 4,
 "nbformat_minor": 4
}
