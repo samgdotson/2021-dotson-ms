{
 "cells": [
  {
   "cell_type": "code",
   "execution_count": 1,
   "metadata": {},
   "outputs": [],
   "source": [
    "import numpy as np\n",
    "import matplotlib.pyplot as plt\n",
    "# plt.style.use('ggplot')\n",
    "import pandas as pd\n",
    "\n",
    "import matplotlib as mpl\n",
    "mpl.use(\"pgf\")\n",
    "plt.rcParams['pgf.texsystem'] = 'pdflatex'\n",
    "plt.rcParams['pgf.rcfonts'] = False\n",
    "plt.rcParams['figure.edgecolor'] = 'k'\n",
    "plt.rcParams['figure.facecolor'] = 'w'\n",
    "plt.rcParams['savefig.dpi'] = 400\n",
    "plt.rcParams['savefig.bbox'] = 'tight'\n",
    "plt.rcParams['text.usetex'] = True\n",
    "plt.rcParams['font.family'] = \"serif\""
   ]
  },
  {
   "cell_type": "markdown",
   "metadata": {},
   "source": [
    "### Naive Capacity Expansion\n",
    "\n",
    "Illinois passed the Climate and Equitable Jobs Act in September of 2021. This bill pledges Illinois to build 17 GW of solar panels and an additional 6.3 GW of wind turbines (for a total of 12.6 GW) by 2030. The Illinois Clean Jobs Coalition asserts this capacity is enough to make Illinois' electric grid carbon neutral in 2030. \n",
    "\n",
    "Let's check. \n",
    "\n",
    "\n",
    "Assumptions: \n",
    "1. Illinois' existing nuclear fleet will continue operating in 2030\n",
    "2. All fossil fuel plants will be replaced by wind or solar energy by 2030. \n",
    "3. Illinois electricity demand does not increase.\n",
    "4. Illinois' total energy exports are allowed to go to zero.\n",
    "\n",
    "With this information, we can determine the optimal mixture of wind and solar capacity using an optimization strategy called linear programming. The problem is to minimize: \n",
    "\n",
    "$C_{total} = C_{solar}x + C_{wind}y$\n",
    "\n",
    "Where $x$ and $y$ are the decision variables corresponding to the solar and wind capacity respectively. This objective function is subject to the constraint:\n",
    "\n",
    "$CF_{s}x + CF_{w}y = CAP_{needed}$"
   ]
  },
  {
   "cell_type": "code",
   "execution_count": 3,
   "metadata": {},
   "outputs": [
    {
     "data": {
      "text/plain": [
       "5.605"
      ]
     },
     "execution_count": 3,
     "metadata": {},
     "output_type": "execute_result"
    }
   ],
   "source": [
    "17*0.2+0.35*6.3"
   ]
  },
  {
   "cell_type": "code",
   "execution_count": 4,
   "metadata": {},
   "outputs": [
    {
     "name": "stdout",
     "output_type": "stream",
     "text": [
      "Remaining Capacity: 4.486301369863013 GW\n"
     ]
    }
   ],
   "source": [
    "# set up basic data\n",
    "\n",
    "cf_s = 0.2\n",
    "cf_w = 0.35\n",
    "cf_n = 0.93\n",
    "\n",
    "cost_s = 0.811\n",
    "cost_w = 1.411\n",
    "\n",
    "demand_2019 = 138 # TWh\n",
    "nuc_gen_2019 = 98.7 # TWh\n",
    "TWh_to_GW = 8.76\n",
    "cap_needed = (demand_2019-nuc_gen_2019)/TWh_to_GW\n",
    "print(f'Remaining Capacity: {cap_needed} GW')\n",
    "\n",
    "# max\n",
    "max_wind = cap_needed/cf_w\n",
    "max_solar = cap_needed/cf_s"
   ]
  },
  {
   "cell_type": "code",
   "execution_count": 10,
   "metadata": {},
   "outputs": [],
   "source": [
    "fig, ax = plt.subplots(figsize=(12,9), facecolor='w', edgecolor='k')\n",
    "px1 = np.array([max_solar,0])\n",
    "px2 = np.array([0, max_wind])\n",
    "cx1 = np.array([cost_s*max_solar, 0])\n",
    "cx2 = np.array([0, cost_w*max_wind])\n",
    "slack = 0.1\n",
    "slacked_x1 = cx1*(1+slack)\n",
    "slacked_x2 = cx2*(1+slack)\n",
    "opt1 = (12.4,5.71)\n",
    "opt2 = (16.65, 3.28)\n",
    "ax.plot(px1, px2, label='Demand Constraint', linestyle='--')\n",
    "ax.plot(cx1, cx2, label='Objective Function', color='tab:red')\n",
    "ax.plot(slacked_x1, slacked_x2, label='10% Slacked Objective', color='k')\n",
    "ax.set_ylim(0, max_wind)\n",
    "ax.set_xlim(0, max_solar)\n",
    "ax.fill_between(px1, px2, max_wind, alpha=0.2, label='Feasible Space')\n",
    "ax.scatter(x=17, y=6.3, c='tab:red', label='CEJA Goal', s=90)\n",
    "ax.scatter(x=opt2[0], y=opt2[1], c='w', label='MGA Solution', edgecolor='k', linewidth=1, s=90)\n",
    "ax.scatter(x=opt1[0],y=opt1[1], label='Optimum Solution', color='tab:blue', marker='o', s=90)\n",
    "ax.minorticks_on()\n",
    "ax.grid(which='minor', linestyle='--', color='gray', alpha=0.4)\n",
    "ax.grid(which='major', linestyle='-', color='k', alpha=0.4)\n",
    "ax.legend(loc='lower left', fancybox=True, shadow=True, facecolor='lightgray',fontsize=14)\n",
    "ax.set_xlabel('Solar Capacity [GW]',fontsize=20)\n",
    "ax.set_ylabel('Wind Capacity [GW]',fontsize=20)\n",
    "ax.set_title('What\\'s the Optimal Mix of Renewable Energy? \\nDemonstration of Modelling to Generate Alternatives',\n",
    "             fontsize=24)\n",
    "# ax.arrow(x=cx1[0]-1,y=cx1[1]+1, dx=slacked_x1[0]*0.97-cx1[0],dy=slacked_x1[1]-cx1[1], width=0.1, color='k')\n",
    "\n",
    "ax.annotate(f'Optimum: {opt1}', opt1, xycoords='data', xytext=(opt1[0]-5, opt1[1]-1), arrowprops=dict(facecolor='k',\n",
    "                                                                                                      arrowstyle='->, head_width=0.35'),\n",
    "            fontsize=14)\n",
    "ax.annotate(f'MGA Solution: {opt2}', opt2, xycoords='data', xytext=(opt2[0]-8, opt2[1]-1), arrowprops=dict(facecolor='k',\n",
    "                                                                                                      arrowstyle='->, head_width=0.35'),\n",
    "            fontsize=14)\n",
    "ax.set_facecolor('lightgray')\n",
    "\n",
    "plt.savefig('../../thesis/figures/naive_mga.pgf')"
   ]
  },
  {
   "cell_type": "markdown",
   "metadata": {},
   "source": [
    "## What about parametric uncertainties?"
   ]
  },
  {
   "cell_type": "code",
   "execution_count": 6,
   "metadata": {},
   "outputs": [],
   "source": [
    "def get_line(x_int, y_int, n=1000):\n",
    "    \"\"\"\n",
    "    returns x,y data for a line between \n",
    "    two specified points.\n",
    "    \"\"\"\n",
    "    \n",
    "    m = (y_int[1]-y_int[0])/(x_int[1]-x_int[0])\n",
    "    y = lambda t: m*t + y_int[1]\n",
    "    \n",
    "    x = np.linspace(0, x_int[0], n)\n",
    "    data = y(x)\n",
    "    \n",
    "    return x, data"
   ]
  },
  {
   "cell_type": "code",
   "execution_count": 7,
   "metadata": {},
   "outputs": [
    {
     "name": "stdout",
     "output_type": "stream",
     "text": [
      "Remaining Capacity: 4.037671232876712 to 4.934931506849315 GW\n"
     ]
    }
   ],
   "source": [
    "unc = 0.1\n",
    "cf_s_low = cf_s*(1-unc)\n",
    "cf_s_high = cf_s*(1+unc)\n",
    "cf_w_low = cf_w*(1-unc)\n",
    "cf_w_high = cf_w*(1+unc)\n",
    "\n",
    "cost_s_low = cost_s*(1-unc)\n",
    "cost_s_high = cost_s*(1+unc)\n",
    "cost_w_low = cost_w*(1-unc)\n",
    "cost_w_high = cost_w*(1+unc)\n",
    "\n",
    "cap_needed_low = cap_needed*(1-unc)\n",
    "cap_needed_high = cap_needed*(1+unc)\n",
    "print(f'Remaining Capacity: {cap_needed_low} to {cap_needed_high} GW')\n",
    "\n",
    "# max\n",
    "max_wind_low = cap_needed_low/cf_w_high\n",
    "max_wind_high = cap_needed_high/cf_w_low\n",
    "max_solar_low = cap_needed_low/cf_s_high\n",
    "max_solar_high = cap_needed_high/cf_s_low"
   ]
  },
  {
   "cell_type": "code",
   "execution_count": 9,
   "metadata": {},
   "outputs": [],
   "source": [
    "fig, ax = plt.subplots(figsize=(12,9), facecolor='w', edgecolor='k')\n",
    "# central values\n",
    "px1 = np.array([max_solar,0])\n",
    "px2 = np.array([0, max_wind])\n",
    "px1_low = np.array([max_solar_low,0])\n",
    "px2_low = np.array([0, max_wind_low])\n",
    "px1_high = np.array([max_solar_high,0])\n",
    "px2_high = np.array([0, max_wind_high])\n",
    "x, dd = get_line(px1, px2)\n",
    "x1,dd_low = get_line(px1_low, px2_low)\n",
    "x2,dd_high = get_line(px1_high, px2_high)\n",
    "\n",
    "# create common x\n",
    "xfill = np.sort(np.concatenate([x1,x2]))\n",
    "y1fill = np.interp(xfill, x1, dd_low)\n",
    "y2fill = np.interp(xfill, x2, dd_high)\n",
    "\n",
    "# low estimates\n",
    "\n",
    "cx1 = np.array([cost_s*max_solar, 0])\n",
    "cx2 = np.array([0, cost_w*max_wind])\n",
    "cx1_low = np.array([cost_s_low*max_solar_low, 0])\n",
    "cx2_low = np.array([0, cost_w_low*max_wind_low])\n",
    "cx1_high = np.array([cost_s_high*max_solar_high, 0])\n",
    "cx2_high = np.array([0, cost_w_high*max_wind_high])\n",
    "x3, od = get_line(cx1, cx2)\n",
    "x4,od_low = get_line(cx1_low, cx2_low)\n",
    "x5,od_high = get_line(cx1_high, cx2_high)\n",
    "\n",
    "# create common x\n",
    "x2fill = np.sort(np.concatenate([x4,x5]))\n",
    "y3fill = np.interp(x2fill, x4, od_low)\n",
    "y4fill = np.interp(x2fill, x5, od_high)\n",
    "\n",
    "# x3fill = np.sort(np.concatenate([]))\n",
    "\n",
    "\n",
    "# demand constraints\n",
    "ax.plot(x, dd, label='Demand Constraint:Mean', linestyle='-', color='tab:blue')\n",
    "ax.plot(x1, dd_low, label='Demand Constraint: LB', linestyle='--', color='tab:blue')\n",
    "ax.plot(x2, dd_high, label='Demand Constraint: UB', linestyle='--', color='tab:blue')\n",
    "ax.plot(x3, od, label='Objective Function: Mean', linestyle='-', color='tab:red')\n",
    "ax.plot(x4, od_low, label='Objective Function: LB', linestyle='--', color='tab:red')\n",
    "ax.plot(x5, od_high, label='Objective Function: UB', linestyle='--', color='tab:red')\n",
    "ax.scatter(x=17, y=6.3, c='tab:red', label='CEJA Goal', s=90)\n",
    "\n",
    "\n",
    "ax.fill_between(xfill,y1fill,y2fill,alpha=0.1)\n",
    "ax.fill_between(x2fill,y3fill,y4fill,alpha=0.1, color='tab:red')\n",
    "# ax.fill_between(x1,dd_low,alpha=1, color='w')\n",
    "ax.legend(fancybox=True, shadow=True, facecolor='lightgray',fontsize=14)\n",
    "ax.set_facecolor('lightgray')\n",
    "ax.set_ylim(0, max_wind_high)\n",
    "ax.set_xlim(0, max_solar_high)\n",
    "ax.minorticks_on()\n",
    "ax.grid(which='minor', linestyle='--', color='gray', alpha=0.4)\n",
    "ax.grid(which='major', linestyle='-', color='k', alpha=0.4)\n",
    "ax.set_xlabel('Solar Capacity [GW]', fontsize=20)\n",
    "ax.set_ylabel('Wind Capacity [GW]', fontsize=20)\n",
    "ax.set_title('What\\'s the Optimal Mix of Renewable Energy?\\nParametric Uncertainties Visualized',fontsize=24)\n",
    "plt.savefig('../../thesis/figures/naive_parametric.pgf')"
   ]
  },
  {
   "cell_type": "code",
   "execution_count": 12,
   "metadata": {},
   "outputs": [
    {
     "data": {
      "text/html": [
       "<div>\n",
       "<style scoped>\n",
       "    .dataframe tbody tr th:only-of-type {\n",
       "        vertical-align: middle;\n",
       "    }\n",
       "\n",
       "    .dataframe tbody tr th {\n",
       "        vertical-align: top;\n",
       "    }\n",
       "\n",
       "    .dataframe thead th {\n",
       "        text-align: right;\n",
       "    }\n",
       "</style>\n",
       "<table border=\"1\" class=\"dataframe\">\n",
       "  <thead>\n",
       "    <tr style=\"text-align: right;\">\n",
       "      <th></th>\n",
       "      <th></th>\n",
       "      <th>Cost in 2030 [M$/GW]</th>\n",
       "      <th>CF</th>\n",
       "      <th>IL Clean Jobs Estimate [GW]</th>\n",
       "      <th>Optimal Solution [GW]</th>\n",
       "      <th>MGA Solution [GW]</th>\n",
       "      <th>Source</th>\n",
       "    </tr>\n",
       "  </thead>\n",
       "  <tbody>\n",
       "    <tr>\n",
       "      <th>0</th>\n",
       "      <td>Demand</td>\n",
       "      <td>-</td>\n",
       "      <td>-</td>\n",
       "      <td>4.486301</td>\n",
       "      <td>-</td>\n",
       "      <td>-</td>\n",
       "      <td></td>\n",
       "    </tr>\n",
       "    <tr>\n",
       "      <th>1</th>\n",
       "      <td>Solar</td>\n",
       "      <td>811</td>\n",
       "      <td>0.2</td>\n",
       "      <td>17.000000</td>\n",
       "      <td>12.4</td>\n",
       "      <td>16.65</td>\n",
       "      <td></td>\n",
       "    </tr>\n",
       "    <tr>\n",
       "      <th>2</th>\n",
       "      <td>Wind</td>\n",
       "      <td>1411</td>\n",
       "      <td>0.35</td>\n",
       "      <td>6.300000</td>\n",
       "      <td>5.71</td>\n",
       "      <td>3.28</td>\n",
       "      <td></td>\n",
       "    </tr>\n",
       "  </tbody>\n",
       "</table>\n",
       "</div>"
      ],
      "text/plain": [
       "          Cost in 2030 [M$/GW]    CF  IL Clean Jobs Estimate [GW]  \\\n",
       "0  Demand                    -     -                     4.486301   \n",
       "1   Solar                  811   0.2                    17.000000   \n",
       "2    Wind                 1411  0.35                     6.300000   \n",
       "\n",
       "  Optimal Solution [GW] MGA Solution [GW] Source  \n",
       "0                     -                 -         \n",
       "1                  12.4             16.65         \n",
       "2                  5.71              3.28         "
      ]
     },
     "execution_count": 12,
     "metadata": {},
     "output_type": "execute_result"
    }
   ],
   "source": [
    "data_dict = {'':['Demand',\n",
    "                 'Solar',\n",
    "                 'Wind',\n",
    "                 ],\n",
    "             'Cost in 2030 [M$/GW]':['-',\n",
    "                                     811,\n",
    "                                     1411],\n",
    "             'CF':['-',\n",
    "                   0.2,\n",
    "                   0.35], \n",
    "             'IL Clean Jobs Estimate [GW]':[39.3/8.76, 17, 6.3],\n",
    "             'Optimal Solution [GW]':['-', 12.4, 5.71],\n",
    "             'MGA Solution [GW]':['-', 16.65, 3.28],\n",
    "             'Source':['','',''],\n",
    "             }\n",
    "\n",
    "data_df = pd.DataFrame(data_dict)\n",
    "data_df"
   ]
  },
  {
   "cell_type": "markdown",
   "metadata": {},
   "source": [
    "data_df.to_latex('../../thesis/methods/naive_ceja.tex', index=False)"
   ]
  }
 ],
 "metadata": {
  "kernelspec": {
   "display_name": "Python 3",
   "language": "python",
   "name": "python3"
  },
  "language_info": {
   "codemirror_mode": {
    "name": "ipython",
    "version": 3
   },
   "file_extension": ".py",
   "mimetype": "text/x-python",
   "name": "python",
   "nbconvert_exporter": "python",
   "pygments_lexer": "ipython3",
   "version": "3.8.3"
  }
 },
 "nbformat": 4,
 "nbformat_minor": 4
}
