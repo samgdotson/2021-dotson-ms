{
 "cells": [
  {
   "cell_type": "code",
   "execution_count": 7,
   "metadata": {},
   "outputs": [],
   "source": [
    "import numpy as np\n",
    "import matplotlib.pyplot as plt\n",
    "plt.rcParams['font.family'] = 'serif'\n",
    "plt.rcParams['savefig.dpi'] = 400\n",
    "plt.rcParams['savefig.bbox'] = 'tight'\n",
    "import seaborn as sb\n",
    "import numpy as np\n",
    "from plotter import *\n",
    "import pandas as pd\n",
    "import glob\n",
    "import os\n",
    "from pygenesys.utils.growth_model import *"
   ]
  },
  {
   "cell_type": "code",
   "execution_count": 8,
   "metadata": {},
   "outputs": [
    {
     "data": {
      "text/plain": [
       "['data/objective_value_LC.csv',\n",
       " 'data/objective_value_XN.csv',\n",
       " 'data/objective_value_ZAN.csv',\n",
       " 'data/objective_value_ZN.csv']"
      ]
     },
     "execution_count": 8,
     "metadata": {},
     "output_type": "execute_result"
    }
   ],
   "source": [
    "files = glob.glob('data/objective_value_*.csv')\n",
    "files.sort()\n",
    "files"
   ]
  },
  {
   "cell_type": "code",
   "execution_count": 9,
   "metadata": {},
   "outputs": [
    {
     "data": {
      "text/html": [
       "<div>\n",
       "<style scoped>\n",
       "    .dataframe tbody tr th:only-of-type {\n",
       "        vertical-align: middle;\n",
       "    }\n",
       "\n",
       "    .dataframe tbody tr th {\n",
       "        vertical-align: top;\n",
       "    }\n",
       "\n",
       "    .dataframe thead th {\n",
       "        text-align: right;\n",
       "    }\n",
       "</style>\n",
       "<table border=\"1\" class=\"dataframe\">\n",
       "  <thead>\n",
       "    <tr style=\"text-align: right;\">\n",
       "      <th></th>\n",
       "      <th>LC</th>\n",
       "      <th>XN</th>\n",
       "      <th>ZAN</th>\n",
       "      <th>ZN</th>\n",
       "    </tr>\n",
       "  </thead>\n",
       "  <tbody>\n",
       "    <tr>\n",
       "      <th>0</th>\n",
       "      <td>132315.601802</td>\n",
       "      <td>151025.624131</td>\n",
       "      <td>151025.624133</td>\n",
       "      <td>175088.403022</td>\n",
       "    </tr>\n",
       "    <tr>\n",
       "      <th>1</th>\n",
       "      <td>132232.727857</td>\n",
       "      <td>144134.489927</td>\n",
       "      <td>144134.489927</td>\n",
       "      <td>165874.167996</td>\n",
       "    </tr>\n",
       "    <tr>\n",
       "      <th>2</th>\n",
       "      <td>132830.508005</td>\n",
       "      <td>147751.603162</td>\n",
       "      <td>147751.603159</td>\n",
       "      <td>170334.328278</td>\n",
       "    </tr>\n",
       "    <tr>\n",
       "      <th>3</th>\n",
       "      <td>132235.847781</td>\n",
       "      <td>145313.159879</td>\n",
       "      <td>145313.159880</td>\n",
       "      <td>167081.216337</td>\n",
       "    </tr>\n",
       "    <tr>\n",
       "      <th>4</th>\n",
       "      <td>132980.314790</td>\n",
       "      <td>150157.669495</td>\n",
       "      <td>150157.669494</td>\n",
       "      <td>172996.306221</td>\n",
       "    </tr>\n",
       "    <tr>\n",
       "      <th>...</th>\n",
       "      <td>...</td>\n",
       "      <td>...</td>\n",
       "      <td>...</td>\n",
       "      <td>...</td>\n",
       "    </tr>\n",
       "    <tr>\n",
       "      <th>96</th>\n",
       "      <td>131928.261316</td>\n",
       "      <td>149243.663438</td>\n",
       "      <td>149243.663441</td>\n",
       "      <td>172316.508795</td>\n",
       "    </tr>\n",
       "    <tr>\n",
       "      <th>97</th>\n",
       "      <td>131393.141364</td>\n",
       "      <td>146973.573350</td>\n",
       "      <td>146973.573350</td>\n",
       "      <td>169247.949009</td>\n",
       "    </tr>\n",
       "    <tr>\n",
       "      <th>98</th>\n",
       "      <td>131585.051766</td>\n",
       "      <td>142721.440408</td>\n",
       "      <td>142721.440408</td>\n",
       "      <td>164002.454648</td>\n",
       "    </tr>\n",
       "    <tr>\n",
       "      <th>99</th>\n",
       "      <td>131579.249009</td>\n",
       "      <td>144603.366788</td>\n",
       "      <td>144603.366789</td>\n",
       "      <td>166338.214748</td>\n",
       "    </tr>\n",
       "    <tr>\n",
       "      <th>100</th>\n",
       "      <td>127976.360033</td>\n",
       "      <td>141064.840562</td>\n",
       "      <td>141064.840561</td>\n",
       "      <td>163307.488963</td>\n",
       "    </tr>\n",
       "  </tbody>\n",
       "</table>\n",
       "<p>101 rows × 4 columns</p>\n",
       "</div>"
      ],
      "text/plain": [
       "                LC             XN            ZAN             ZN\n",
       "0    132315.601802  151025.624131  151025.624133  175088.403022\n",
       "1    132232.727857  144134.489927  144134.489927  165874.167996\n",
       "2    132830.508005  147751.603162  147751.603159  170334.328278\n",
       "3    132235.847781  145313.159879  145313.159880  167081.216337\n",
       "4    132980.314790  150157.669495  150157.669494  172996.306221\n",
       "..             ...            ...            ...            ...\n",
       "96   131928.261316  149243.663438  149243.663441  172316.508795\n",
       "97   131393.141364  146973.573350  146973.573350  169247.949009\n",
       "98   131585.051766  142721.440408  142721.440408  164002.454648\n",
       "99   131579.249009  144603.366788  144603.366789  166338.214748\n",
       "100  127976.360033  141064.840562  141064.840561  163307.488963\n",
       "\n",
       "[101 rows x 4 columns]"
      ]
     },
     "execution_count": 9,
     "metadata": {},
     "output_type": "execute_result"
    }
   ],
   "source": [
    "obj_dict = {}\n",
    "for fname in files:\n",
    "    scenario = fname.strip('.csv').split('_')[-1]\n",
    "    obj_df = pd.read_csv(fname)\n",
    "    data = np.array(obj_df['Objective_Value'])\n",
    "    obj_dict[scenario] = data\n",
    "df = pd.DataFrame(obj_dict)\n",
    "df"
   ]
  },
  {
   "cell_type": "code",
   "execution_count": 10,
   "metadata": {},
   "outputs": [],
   "source": [
    "# get the total demand\n",
    "annual_demand = linear_growth(1.87e5, 2025, 2050, 6, 0.01) # GWh\n",
    "tot_gwh = annual_demand.sum()"
   ]
  },
  {
   "cell_type": "code",
   "execution_count": 19,
   "metadata": {},
   "outputs": [
    {
     "data": {
      "text/plain": [
       "array([187000., 196350., 205700., 215050., 224400., 233750.])"
      ]
     },
     "execution_count": 19,
     "metadata": {},
     "output_type": "execute_result"
    }
   ],
   "source": [
    "annual_demand"
   ]
  },
  {
   "cell_type": "code",
   "execution_count": 18,
   "metadata": {},
   "outputs": [
    {
     "data": {
      "text/plain": [
       "Text(0.5, 1.0, 'Variability of Electricity Cost')"
      ]
     },
     "execution_count": 18,
     "metadata": {},
     "output_type": "execute_result"
    },
    {
     "data": {
      "image/png": "[encoded data removed]",
      "text/plain": [
       "<Figure size 864x864 with 1 Axes>"
      ]
     },
     "metadata": {},
     "output_type": "display_data"
    }
   ],
   "source": [
    "ax = sb.boxenplot(data = df/tot_gwh*1000, palette={'LC':'tab:green',\n",
    "                                                   'XN':'tab:blue',\n",
    "                                                   'ZAN':'gray',\n",
    "                                                   'ZN':'tab:red'})\n",
    "ax.set_xlabel('Scenario', fontsize=20)\n",
    "labels = {0:'Least Cost', 1:'Expensive Nuclear', 2:'Zero Advanced \\n Nuclear', 3:'Nuclear Phaseout'}\n",
    "plt.xticks(list(labels.keys()), list(labels.values()), fontsize=14)\n",
    "plt.yticks(fontsize=14)\n",
    "ax.set_ylabel('System Levelized Cost of Electricity [$/MWh]', fontsize=20)\n",
    "ax.axhline(y=((125+121)/2), color='k', linestyle='--')\n",
    "ax.axhline(y=((109+106)/2), color='k', linestyle='--')\n",
    "ax.set_title('Variability of Electricity Cost', fontsize=24)"
   ]
  },
  {
   "cell_type": "code",
   "execution_count": 6,
   "metadata": {},
   "outputs": [
    {
     "data": {
      "text/html": [
       "<div>\n",
       "<style scoped>\n",
       "    .dataframe tbody tr th:only-of-type {\n",
       "        vertical-align: middle;\n",
       "    }\n",
       "\n",
       "    .dataframe tbody tr th {\n",
       "        vertical-align: top;\n",
       "    }\n",
       "\n",
       "    .dataframe thead th {\n",
       "        text-align: right;\n",
       "    }\n",
       "</style>\n",
       "<table border=\"1\" class=\"dataframe\">\n",
       "  <thead>\n",
       "    <tr style=\"text-align: right;\">\n",
       "      <th></th>\n",
       "      <th>LC</th>\n",
       "      <th>XN</th>\n",
       "      <th>ZAN</th>\n",
       "      <th>ZN</th>\n",
       "    </tr>\n",
       "  </thead>\n",
       "  <tbody>\n",
       "    <tr>\n",
       "      <th>count</th>\n",
       "      <td>101.000000</td>\n",
       "      <td>101.000000</td>\n",
       "      <td>101.000000</td>\n",
       "      <td>101.000000</td>\n",
       "    </tr>\n",
       "    <tr>\n",
       "      <th>mean</th>\n",
       "      <td>104.252805</td>\n",
       "      <td>116.255901</td>\n",
       "      <td>116.255901</td>\n",
       "      <td>134.017663</td>\n",
       "    </tr>\n",
       "    <tr>\n",
       "      <th>std</th>\n",
       "      <td>0.942351</td>\n",
       "      <td>2.651169</td>\n",
       "      <td>2.651169</td>\n",
       "      <td>3.500519</td>\n",
       "    </tr>\n",
       "    <tr>\n",
       "      <th>min</th>\n",
       "      <td>101.387491</td>\n",
       "      <td>109.937536</td>\n",
       "      <td>109.937536</td>\n",
       "      <td>125.516362</td>\n",
       "    </tr>\n",
       "    <tr>\n",
       "      <th>25%</th>\n",
       "      <td>103.532436</td>\n",
       "      <td>114.278504</td>\n",
       "      <td>114.278504</td>\n",
       "      <td>131.422404</td>\n",
       "    </tr>\n",
       "    <tr>\n",
       "      <th>50%</th>\n",
       "      <td>104.241829</td>\n",
       "      <td>115.948745</td>\n",
       "      <td>115.948745</td>\n",
       "      <td>133.671898</td>\n",
       "    </tr>\n",
       "    <tr>\n",
       "      <th>75%</th>\n",
       "      <td>104.823954</td>\n",
       "      <td>118.264291</td>\n",
       "      <td>118.264291</td>\n",
       "      <td>136.649721</td>\n",
       "    </tr>\n",
       "    <tr>\n",
       "      <th>max</th>\n",
       "      <td>106.427746</td>\n",
       "      <td>121.448294</td>\n",
       "      <td>121.448294</td>\n",
       "      <td>141.415300</td>\n",
       "    </tr>\n",
       "  </tbody>\n",
       "</table>\n",
       "</div>"
      ],
      "text/plain": [
       "               LC          XN         ZAN          ZN\n",
       "count  101.000000  101.000000  101.000000  101.000000\n",
       "mean   104.252805  116.255901  116.255901  134.017663\n",
       "std      0.942351    2.651169    2.651169    3.500519\n",
       "min    101.387491  109.937536  109.937536  125.516362\n",
       "25%    103.532436  114.278504  114.278504  131.422404\n",
       "50%    104.241829  115.948745  115.948745  133.671898\n",
       "75%    104.823954  118.264291  118.264291  136.649721\n",
       "max    106.427746  121.448294  121.448294  141.415300"
      ]
     },
     "execution_count": 6,
     "metadata": {},
     "output_type": "execute_result"
    }
   ],
   "source": [
    "(df/tot_gwh*1000).describe()"
   ]
  }
 ],
 "metadata": {
  "kernelspec": {
   "display_name": "Python 3",
   "language": "python",
   "name": "python3"
  },
  "language_info": {
   "codemirror_mode": {
    "name": "ipython",
    "version": 3
   },
   "file_extension": ".py",
   "mimetype": "text/x-python",
   "name": "python",
   "nbconvert_exporter": "python",
   "pygments_lexer": "ipython3",
   "version": "3.8.3"
  }
 },
 "nbformat": 4,
 "nbformat_minor": 4
}
