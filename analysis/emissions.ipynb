{
 "cells": [
  {
   "cell_type": "code",
   "execution_count": 1,
   "metadata": {},
   "outputs": [],
   "source": [
    "import sqlite3\n",
    "import numpy as np\n",
    "import matplotlib.pyplot as plt\n",
    "import pandas as pd\n",
    "plt.style.use('ggplot')"
   ]
  },
  {
   "cell_type": "code",
   "execution_count": 25,
   "metadata": {},
   "outputs": [],
   "source": [
    "# path = 'simulations/illinois/data_files/IL_CAP50_PJM_52.sqlite'\n",
    "path = 'simulations/illinois/data_files/IL_BAU_PJM_52.sqlite'\n",
    "conn = sqlite3.connect(path)"
   ]
  },
  {
   "cell_type": "code",
   "execution_count": 26,
   "metadata": {},
   "outputs": [],
   "source": [
    "cursor = conn.cursor()"
   ]
  },
  {
   "cell_type": "code",
   "execution_count": 27,
   "metadata": {},
   "outputs": [
    {
     "name": "stdout",
     "output_type": "stream",
     "text": [
      "('Output_V_Capacity',)\n",
      "('Output_VFlow_Out',)\n",
      "('Output_VFlow_In',)\n",
      "('Output_Objective',)\n",
      "('Output_Curtailment',)\n",
      "('Output_Emissions',)\n",
      "('Output_Costs',)\n",
      "('Output_Duals',)\n",
      "('Output_CapacityByPeriodAndTech',)\n"
     ]
    }
   ],
   "source": [
    "list_tables = \"SELECT name FROM sqlite_master WHERE type='table' AND name LIKE 'Output_%'\"\n",
    "cursor.execute(list_tables)\n",
    "for t in cursor.fetchall():\n",
    "    print(t)"
   ]
  },
  {
   "cell_type": "code",
   "execution_count": 30,
   "metadata": {},
   "outputs": [],
   "source": [
    "ecomm = 'CO2'\n",
    "\n",
    "command = (f\"SELECT t_periods, SUM(emissions), emissions_comm FROM Output_Emissions \" +\n",
    "           f\"WHERE emissions_comm IS '{ecomm}' \"+\n",
    "           f\"GROUP BY Output_Emissions.t_periods\")\n",
    "data = cursor.execute(command)\n",
    "emis_data = cursor.fetchall()\n",
    "years = [int(y[0]) for y in emis_data]\n",
    "value = [int(y[1]) for y in emis_data]"
   ]
  },
  {
   "cell_type": "code",
   "execution_count": 31,
   "metadata": {},
   "outputs": [
    {
     "data": {
      "text/plain": [
       "[<matplotlib.lines.Line2D at 0x7f7dfb593250>]"
      ]
     },
     "execution_count": 31,
     "metadata": {},
     "output_type": "execute_result"
    },
    {
     "data": {
      "image/png": "[encoded data removed]",
      "text/plain": [
       "<Figure size 432x288 with 1 Axes>"
      ]
     },
     "metadata": {},
     "output_type": "display_data"
    }
   ],
   "source": [
    "plt.plot(years,value)"
   ]
  },
  {
   "cell_type": "code",
   "execution_count": null,
   "metadata": {},
   "outputs": [],
   "source": []
  }
 ],
 "metadata": {
  "kernelspec": {
   "display_name": "Python 3",
   "language": "python",
   "name": "python3"
  },
  "language_info": {
   "codemirror_mode": {
    "name": "ipython",
    "version": 3
   },
   "file_extension": ".py",
   "mimetype": "text/x-python",
   "name": "python",
   "nbconvert_exporter": "python",
   "pygments_lexer": "ipython3",
   "version": "3.8.3"
  }
 },
 "nbformat": 4,
 "nbformat_minor": 4
}
