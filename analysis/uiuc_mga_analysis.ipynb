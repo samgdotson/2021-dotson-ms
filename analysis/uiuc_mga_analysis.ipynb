{
 "cells": [
  {
   "cell_type": "code",
   "execution_count": 1,
   "metadata": {},
   "outputs": [],
   "source": [
    "import glob\n",
    "import numpy as np\n",
    "import matplotlib.pyplot as plt\n",
    "import pandas as pd\n",
    "import sqlite3\n",
    "import seaborn as sb\n",
    "from plotter import *"
   ]
  },
  {
   "cell_type": "code",
   "execution_count": 2,
   "metadata": {},
   "outputs": [
    {
     "data": {
      "text/plain": [
       "['../simulations/uiuc/data_files/UIUC_UIUC_SLACK01_52.sqlite',\n",
       " '../simulations/uiuc/data_files/UIUC_UIUC_SLACK05_52.sqlite',\n",
       " '../simulations/uiuc/data_files/UIUC_UIUC_SLACK10_52.sqlite',\n",
       " '../simulations/uiuc/data_files/UIUC_UIUC_SLACK20_52.sqlite']"
      ]
     },
     "execution_count": 2,
     "metadata": {},
     "output_type": "execute_result"
    }
   ],
   "source": [
    "# path = 'simulations/uiuc/data_files/UIUC_CC30_52.sqlite'\n",
    "# path = 'simulations/uiuc/data_files/UIUC_LIMSOL_52.sqlite'\n",
    "path = '../simulations/uiuc/data_files/**.sqlite'\n",
    "files = glob.glob(path)\n",
    "files.sort()\n",
    "files\n",
    "# conn = sqlite3.connect(path)"
   ]
  },
  {
   "cell_type": "code",
   "execution_count": 3,
   "metadata": {},
   "outputs": [],
   "source": [
    "def get_slack_value(fname):\n",
    "    \"\"\"\n",
    "    Returns the slack value for a given filename\n",
    "    \"\"\"\n",
    "    file = fname.split('/')[-1].strip('.sqlite')\n",
    "    file = file.split('_')[-2]\n",
    "    slack = int(file[-2:])\n",
    "\n",
    "    return slack"
   ]
  },
  {
   "cell_type": "code",
   "execution_count": 4,
   "metadata": {},
   "outputs": [
    {
     "data": {
      "text/plain": [
       "20"
      ]
     },
     "execution_count": 4,
     "metadata": {},
     "output_type": "execute_result"
    }
   ],
   "source": [
    "get_slack_value(files[3])"
   ]
  },
  {
   "cell_type": "code",
   "execution_count": 5,
   "metadata": {},
   "outputs": [],
   "source": [
    "def get_scenario_list(fname):\n",
    "    \"\"\"\n",
    "    Returns list of scenario names\n",
    "    \"\"\"\n",
    "    \n",
    "    conn = sqlite3.connect(fname)\n",
    "    cursor = conn.cursor()\n",
    "    command = \"SELECT scenario FROM Output_Objective\"\n",
    "    metadata = cursor.execute(command)\n",
    "    scenarios = [i[0] for i in cursor.fetchall()]\n",
    "        \n",
    "    return scenarios"
   ]
  },
  {
   "cell_type": "code",
   "execution_count": 6,
   "metadata": {},
   "outputs": [],
   "source": [
    "sc = get_scenario_list(files[0])"
   ]
  },
  {
   "cell_type": "code",
   "execution_count": 7,
   "metadata": {},
   "outputs": [
    {
     "data": {
      "text/plain": [
       "['UIUC_SLACK01',\n",
       " 'UIUC_SLACK01_mga_0',\n",
       " 'UIUC_SLACK01_mga_1',\n",
       " 'UIUC_SLACK01_mga_2',\n",
       " 'UIUC_SLACK01_mga_3']"
      ]
     },
     "execution_count": 7,
     "metadata": {},
     "output_type": "execute_result"
    }
   ],
   "source": [
    "sc"
   ]
  },
  {
   "cell_type": "code",
   "execution_count": 8,
   "metadata": {},
   "outputs": [],
   "source": [
    "connector = sqlite3.connect(files[0])"
   ]
  },
  {
   "cell_type": "code",
   "execution_count": 9,
   "metadata": {},
   "outputs": [
    {
     "data": {
      "text/html": [
       "<div>\n",
       "<style scoped>\n",
       "    .dataframe tbody tr th:only-of-type {\n",
       "        vertical-align: middle;\n",
       "    }\n",
       "\n",
       "    .dataframe tbody tr th {\n",
       "        vertical-align: top;\n",
       "    }\n",
       "\n",
       "    .dataframe thead th {\n",
       "        text-align: right;\n",
       "    }\n",
       "</style>\n",
       "<table border=\"1\" class=\"dataframe\">\n",
       "  <thead>\n",
       "    <tr style=\"text-align: right;\">\n",
       "      <th></th>\n",
       "      <th>ABBOTT_TB</th>\n",
       "      <th>IMP_ELC</th>\n",
       "      <th>LI_BATTERY</th>\n",
       "      <th>NUCLEAR_TB</th>\n",
       "      <th>SOLAR_FARM</th>\n",
       "      <th>WIND_FARM</th>\n",
       "    </tr>\n",
       "    <tr>\n",
       "      <th>year</th>\n",
       "      <th></th>\n",
       "      <th></th>\n",
       "      <th></th>\n",
       "      <th></th>\n",
       "      <th></th>\n",
       "      <th></th>\n",
       "    </tr>\n",
       "  </thead>\n",
       "  <tbody>\n",
       "    <tr>\n",
       "      <th>2025</th>\n",
       "      <td>38.124114</td>\n",
       "      <td>50.000000</td>\n",
       "      <td>0.0</td>\n",
       "      <td>4.689867</td>\n",
       "      <td>16.960000</td>\n",
       "      <td>100.2554</td>\n",
       "    </tr>\n",
       "    <tr>\n",
       "      <th>2030</th>\n",
       "      <td>74.559167</td>\n",
       "      <td>66.273430</td>\n",
       "      <td>0.0</td>\n",
       "      <td>9.879456</td>\n",
       "      <td>24.644396</td>\n",
       "      <td>100.5000</td>\n",
       "    </tr>\n",
       "    <tr>\n",
       "      <th>2035</th>\n",
       "      <td>102.497800</td>\n",
       "      <td>78.404525</td>\n",
       "      <td>0.0</td>\n",
       "      <td>14.917116</td>\n",
       "      <td>40.723987</td>\n",
       "      <td>100.5000</td>\n",
       "    </tr>\n",
       "    <tr>\n",
       "      <th>2040</th>\n",
       "      <td>108.320480</td>\n",
       "      <td>98.752947</td>\n",
       "      <td>0.0</td>\n",
       "      <td>19.769040</td>\n",
       "      <td>48.188815</td>\n",
       "      <td>100.5000</td>\n",
       "    </tr>\n",
       "    <tr>\n",
       "      <th>2045</th>\n",
       "      <td>114.359280</td>\n",
       "      <td>98.752947</td>\n",
       "      <td>0.0</td>\n",
       "      <td>24.310352</td>\n",
       "      <td>52.384220</td>\n",
       "      <td>100.5000</td>\n",
       "    </tr>\n",
       "    <tr>\n",
       "      <th>2050</th>\n",
       "      <td>114.359280</td>\n",
       "      <td>115.475380</td>\n",
       "      <td>0.0</td>\n",
       "      <td>29.549293</td>\n",
       "      <td>57.177100</td>\n",
       "      <td>100.5000</td>\n",
       "    </tr>\n",
       "  </tbody>\n",
       "</table>\n",
       "</div>"
      ],
      "text/plain": [
       "       ABBOTT_TB     IMP_ELC  LI_BATTERY  NUCLEAR_TB  SOLAR_FARM  WIND_FARM\n",
       "year                                                                       \n",
       "2025   38.124114   50.000000         0.0    4.689867   16.960000   100.2554\n",
       "2030   74.559167   66.273430         0.0    9.879456   24.644396   100.5000\n",
       "2035  102.497800   78.404525         0.0   14.917116   40.723987   100.5000\n",
       "2040  108.320480   98.752947         0.0   19.769040   48.188815   100.5000\n",
       "2045  114.359280   98.752947         0.0   24.310352   52.384220   100.5000\n",
       "2050  114.359280  115.475380         0.0   29.549293   57.177100   100.5000"
      ]
     },
     "execution_count": 9,
     "metadata": {},
     "output_type": "execute_result"
    }
   ],
   "source": [
    "get_annual_capacity(connector, 'UIUC', 'ELC', sc[0])"
   ]
  },
  {
   "cell_type": "code",
   "execution_count": 10,
   "metadata": {},
   "outputs": [
    {
     "data": {
      "text/html": [
       "<div>\n",
       "<style scoped>\n",
       "    .dataframe tbody tr th:only-of-type {\n",
       "        vertical-align: middle;\n",
       "    }\n",
       "\n",
       "    .dataframe tbody tr th {\n",
       "        vertical-align: top;\n",
       "    }\n",
       "\n",
       "    .dataframe thead th {\n",
       "        text-align: right;\n",
       "    }\n",
       "</style>\n",
       "<table border=\"1\" class=\"dataframe\">\n",
       "  <thead>\n",
       "    <tr style=\"text-align: right;\">\n",
       "      <th></th>\n",
       "      <th>ABBOTT_TB</th>\n",
       "      <th>IMP_ELC</th>\n",
       "      <th>LI_BATTERY</th>\n",
       "      <th>NUCLEAR_TB</th>\n",
       "      <th>SOLAR_FARM</th>\n",
       "      <th>WIND_FARM</th>\n",
       "    </tr>\n",
       "    <tr>\n",
       "      <th>year</th>\n",
       "      <th></th>\n",
       "      <th></th>\n",
       "      <th></th>\n",
       "      <th></th>\n",
       "      <th></th>\n",
       "      <th></th>\n",
       "    </tr>\n",
       "  </thead>\n",
       "  <tbody>\n",
       "    <tr>\n",
       "      <th>2025</th>\n",
       "      <td>0.050677</td>\n",
       "      <td>53.863454</td>\n",
       "      <td>0.000000e+00</td>\n",
       "      <td>0.0</td>\n",
       "      <td>35.535715</td>\n",
       "      <td>100.5</td>\n",
       "    </tr>\n",
       "    <tr>\n",
       "      <th>2030</th>\n",
       "      <td>0.050677</td>\n",
       "      <td>56.820389</td>\n",
       "      <td>-1.995609e-07</td>\n",
       "      <td>0.0</td>\n",
       "      <td>40.943298</td>\n",
       "      <td>100.5</td>\n",
       "    </tr>\n",
       "    <tr>\n",
       "      <th>2035</th>\n",
       "      <td>0.050677</td>\n",
       "      <td>61.797091</td>\n",
       "      <td>-1.991300e-07</td>\n",
       "      <td>0.0</td>\n",
       "      <td>48.828980</td>\n",
       "      <td>100.5</td>\n",
       "    </tr>\n",
       "    <tr>\n",
       "      <th>2040</th>\n",
       "      <td>0.050677</td>\n",
       "      <td>74.500474</td>\n",
       "      <td>-7.968691e-08</td>\n",
       "      <td>0.0</td>\n",
       "      <td>52.926465</td>\n",
       "      <td>100.5</td>\n",
       "    </tr>\n",
       "    <tr>\n",
       "      <th>2045</th>\n",
       "      <td>0.050677</td>\n",
       "      <td>99.520141</td>\n",
       "      <td>0.000000e+00</td>\n",
       "      <td>0.0</td>\n",
       "      <td>56.562236</td>\n",
       "      <td>100.5</td>\n",
       "    </tr>\n",
       "    <tr>\n",
       "      <th>2050</th>\n",
       "      <td>0.050677</td>\n",
       "      <td>122.793030</td>\n",
       "      <td>0.000000e+00</td>\n",
       "      <td>0.0</td>\n",
       "      <td>63.424515</td>\n",
       "      <td>100.5</td>\n",
       "    </tr>\n",
       "  </tbody>\n",
       "</table>\n",
       "</div>"
      ],
      "text/plain": [
       "      ABBOTT_TB     IMP_ELC    LI_BATTERY  NUCLEAR_TB  SOLAR_FARM  WIND_FARM\n",
       "year                                                                        \n",
       "2025   0.050677   53.863454  0.000000e+00         0.0   35.535715      100.5\n",
       "2030   0.050677   56.820389 -1.995609e-07         0.0   40.943298      100.5\n",
       "2035   0.050677   61.797091 -1.991300e-07         0.0   48.828980      100.5\n",
       "2040   0.050677   74.500474 -7.968691e-08         0.0   52.926465      100.5\n",
       "2045   0.050677   99.520141  0.000000e+00         0.0   56.562236      100.5\n",
       "2050   0.050677  122.793030  0.000000e+00         0.0   63.424515      100.5"
      ]
     },
     "execution_count": 10,
     "metadata": {},
     "output_type": "execute_result"
    }
   ],
   "source": [
    "get_annual_capacity(connector, 'UIUC', 'ELC', sc[1])"
   ]
  },
  {
   "cell_type": "code",
   "execution_count": 11,
   "metadata": {},
   "outputs": [
    {
     "data": {
      "text/html": [
       "<div>\n",
       "<style scoped>\n",
       "    .dataframe tbody tr th:only-of-type {\n",
       "        vertical-align: middle;\n",
       "    }\n",
       "\n",
       "    .dataframe tbody tr th {\n",
       "        vertical-align: top;\n",
       "    }\n",
       "\n",
       "    .dataframe thead th {\n",
       "        text-align: right;\n",
       "    }\n",
       "</style>\n",
       "<table border=\"1\" class=\"dataframe\">\n",
       "  <thead>\n",
       "    <tr style=\"text-align: right;\">\n",
       "      <th></th>\n",
       "      <th>ABBOTT_TB</th>\n",
       "      <th>IMP_ELC</th>\n",
       "      <th>LI_BATTERY</th>\n",
       "      <th>NUCLEAR_TB</th>\n",
       "      <th>SOLAR_FARM</th>\n",
       "      <th>WIND_FARM</th>\n",
       "    </tr>\n",
       "    <tr>\n",
       "      <th>year</th>\n",
       "      <th></th>\n",
       "      <th></th>\n",
       "      <th></th>\n",
       "      <th></th>\n",
       "      <th></th>\n",
       "      <th></th>\n",
       "    </tr>\n",
       "  </thead>\n",
       "  <tbody>\n",
       "    <tr>\n",
       "      <th>2025</th>\n",
       "      <td>0.000339</td>\n",
       "      <td>163.975369</td>\n",
       "      <td>0.000000e+00</td>\n",
       "      <td>0.000000</td>\n",
       "      <td>56.643522</td>\n",
       "      <td>282.577078</td>\n",
       "    </tr>\n",
       "    <tr>\n",
       "      <th>2030</th>\n",
       "      <td>0.000356</td>\n",
       "      <td>180.187412</td>\n",
       "      <td>-4.181366e-07</td>\n",
       "      <td>0.000000</td>\n",
       "      <td>65.401874</td>\n",
       "      <td>282.766483</td>\n",
       "    </tr>\n",
       "    <tr>\n",
       "      <th>2035</th>\n",
       "      <td>0.000000</td>\n",
       "      <td>193.108209</td>\n",
       "      <td>-6.088813e-07</td>\n",
       "      <td>0.000000</td>\n",
       "      <td>77.632020</td>\n",
       "      <td>282.775710</td>\n",
       "    </tr>\n",
       "    <tr>\n",
       "      <th>2040</th>\n",
       "      <td>-0.000002</td>\n",
       "      <td>211.300504</td>\n",
       "      <td>-2.685108e-07</td>\n",
       "      <td>-0.000002</td>\n",
       "      <td>84.748865</td>\n",
       "      <td>282.624416</td>\n",
       "    </tr>\n",
       "    <tr>\n",
       "      <th>2045</th>\n",
       "      <td>0.000000</td>\n",
       "      <td>230.044385</td>\n",
       "      <td>-7.358165e-09</td>\n",
       "      <td>0.000000</td>\n",
       "      <td>91.022343</td>\n",
       "      <td>282.717114</td>\n",
       "    </tr>\n",
       "    <tr>\n",
       "      <th>2050</th>\n",
       "      <td>-0.000040</td>\n",
       "      <td>244.063728</td>\n",
       "      <td>0.000000e+00</td>\n",
       "      <td>-0.000017</td>\n",
       "      <td>102.197320</td>\n",
       "      <td>282.536095</td>\n",
       "    </tr>\n",
       "  </tbody>\n",
       "</table>\n",
       "</div>"
      ],
      "text/plain": [
       "      ABBOTT_TB     IMP_ELC    LI_BATTERY  NUCLEAR_TB  SOLAR_FARM   WIND_FARM\n",
       "year                                                                         \n",
       "2025   0.000339  163.975369  0.000000e+00    0.000000   56.643522  282.577078\n",
       "2030   0.000356  180.187412 -4.181366e-07    0.000000   65.401874  282.766483\n",
       "2035   0.000000  193.108209 -6.088813e-07    0.000000   77.632020  282.775710\n",
       "2040  -0.000002  211.300504 -2.685108e-07   -0.000002   84.748865  282.624416\n",
       "2045   0.000000  230.044385 -7.358165e-09    0.000000   91.022343  282.717114\n",
       "2050  -0.000040  244.063728  0.000000e+00   -0.000017  102.197320  282.536095"
      ]
     },
     "execution_count": 11,
     "metadata": {},
     "output_type": "execute_result"
    }
   ],
   "source": [
    "get_annual_generation(connector, 'UIUC', 'ELC', sc[1])"
   ]
  },
  {
   "cell_type": "code",
   "execution_count": 12,
   "metadata": {},
   "outputs": [],
   "source": [
    "all_frames = {}\n",
    "for f in files:\n",
    "    frames={}\n",
    "    scenarios = get_scenario_list(f)\n",
    "    connector = sqlite3.connect(f)\n",
    "    sv = get_slack_value(f)\n",
    "    for i,s in enumerate(scenarios):\n",
    "        key = f'mga-{i}-{sv}%'\n",
    "        frames[key] = get_annual_capacity(connector, 'UIUC', 'ELC', s)\n",
    "    all_frames[sv] = frames"
   ]
  },
  {
   "cell_type": "code",
   "execution_count": 13,
   "metadata": {},
   "outputs": [],
   "source": [
    "import pandas as pd\n",
    "import matplotlib.pyplot as plt\n",
    "import numpy as np\n",
    "import matplotlib as mpl\n",
    "mpl.use(\"pgf\")\n",
    "plt.rcParams['pgf.texsystem'] = 'pdflatex'\n",
    "plt.rcParams['pgf.rcfonts'] = False\n",
    "plt.rcParams['figure.edgecolor'] = 'k'\n",
    "plt.rcParams['figure.facecolor'] = 'w'\n",
    "plt.rcParams['savefig.dpi'] = 400\n",
    "plt.rcParams['savefig.bbox'] = 'tight'\n",
    "plt.rcParams['text.usetex'] = True\n",
    "plt.rcParams['font.family'] = \"serif\""
   ]
  },
  {
   "cell_type": "code",
   "execution_count": 14,
   "metadata": {},
   "outputs": [],
   "source": [
    "n_frames = len(all_frames)\n",
    "n_techs = 1\n",
    "fig, axes = plt.subplots(n_techs,n_frames,figsize=(12,5), sharex=False, sharey=True)\n",
    "\n",
    "for j, key in enumerate(all_frames):\n",
    "    val = all_frames[key]\n",
    "    techs = val[list(val.keys())[0]].columns\n",
    "    xticks = list(val.keys())\n",
    "    for i, tech in enumerate(techs):\n",
    "        data = [val[k][tech][2050] for k in val.keys()]\n",
    "        axes[j].plot(xticks, data, linestyle='--', color=elc_colors[tech], marker='o', label=tech)\n",
    "#         axes[i][j].set_ylim(-1,130)\n",
    "        axes[j].grid(which='minor', linestyle='--', lw=0.5)\n",
    "        axes[j].tick_params(axis='y', labelsize=14)\n",
    "        if j == 0:\n",
    "            axes[j].set_ylabel(r'MW$_e$', fontsize=16)\n",
    "#         if i < 5:\n",
    "#             axes[j].set_xticks([])\n",
    "#         axes[j] = axes[n_frames-1].twinx()\n",
    "#         axes[j].set_ylabel(tech, rotation=-90, labelpad=20)\n",
    "#         ax2.set_yticks([])\n",
    "#         ax2.tick_params(grid_alpha=0)\n",
    "#         axes[j].minorticks_off()\n",
    "#         axes[n_techs-1][j].set_xticks(xticks)\n",
    "        axes[j].tick_params(axis='x',rotation=90, labelsize=16, grid_alpha=0)\n",
    "plt.suptitle('UIUC Electric Generating Capacity in 2050', fontsize=24)\n",
    "# plt.subplots_adjust(wspace=0.01, hspace=0.01)\n",
    "plt.tight_layout()\n",
    "plt.legend(loc=(1.05,0.2),fontsize=14, shadow=True)\n",
    "# plt.show()\n",
    "# plt.savefig('')\n",
    "plt.savefig('../thesis/figures/uiuc_elc_plot.pgf')"
   ]
  },
  {
   "cell_type": "code",
   "execution_count": 15,
   "metadata": {},
   "outputs": [],
   "source": [
    "all_frames_stm = {}\n",
    "for f in files:\n",
    "    frames={}\n",
    "    scenarios = get_scenario_list(f)\n",
    "    connector = sqlite3.connect(f)\n",
    "    sv = get_slack_value(f)\n",
    "    for i,s in enumerate(scenarios):\n",
    "        key = f'mga-{i}-{sv}%'\n",
    "        frames[key] = get_annual_capacity(connector, 'UIUC', ['STM', 'NUC_STM'], s)\n",
    "    all_frames_stm[sv] = frames"
   ]
  },
  {
   "cell_type": "code",
   "execution_count": 17,
   "metadata": {},
   "outputs": [],
   "source": [
    "n_frames = len(all_frames_stm)\n",
    "n_techs = 1\n",
    "fig, axes = plt.subplots(n_techs,n_frames,figsize=(12,5), sharex=False, sharey=True)\n",
    "\n",
    "marker_dict = {'ABBOTT':'o',\n",
    "               'NUCLEAR_THM':'^'}\n",
    "linestyle_dict = {'ABBOTT':'--',\n",
    "                  'NUCLEAR_THM':'-.'}\n",
    "\n",
    "for j, key in enumerate(all_frames_stm):\n",
    "    val = all_frames_stm[key]\n",
    "    techs = val[list(val.keys())[0]].columns\n",
    "    xticks = list(val.keys())\n",
    "    for i, tech in enumerate(techs):\n",
    "        data = [val[k][tech][2050] for k in val.keys()]\n",
    "        axes[j].plot(xticks, data, linestyle=linestyle_dict[tech],\n",
    "                     color=elc_colors[tech], marker=marker_dict[tech],\n",
    "                     label=tech,)\n",
    "#         axes[i][j].set_ylim(-1,130)\n",
    "        axes[j].grid(which='minor', linestyle='--', lw=0.5)\n",
    "        axes[j].tick_params(axis='y', labelsize=14)\n",
    "        if j == 0:\n",
    "            axes[j].set_ylabel(r'MW$_{th}$', fontsize=16)\n",
    "#         if i < n_techs-1:\n",
    "#             axes[j].set_xticks([])\n",
    "#         ax2 = axes[n_frames-1].twinx()\n",
    "#         ax2.set_ylabel(tech, rotation=-90, labelpad=20)\n",
    "#         ax2.set_yticks([])\n",
    "#         ax2.tick_params(grid_alpha=0)\n",
    "#         ax2.minorticks_off()\n",
    "#         axes[n_techs-1][j].set_xticks(xticks)\n",
    "        axes[j].tick_params(axis='x',rotation=90, labelsize=16, grid_alpha=0)\n",
    "plt.suptitle('UIUC Thermal Generating Capacity in 2050', fontsize=24)\n",
    "plt.legend(loc=(1.05,0.4),fontsize=14, shadow=True)\n",
    "# plt.subplots_adjust(wspace=0.01, hspace=0.01)\n",
    "plt.tight_layout()\n",
    "plt.savefig('../thesis/figures/uiuc_thermal_plot.pgf')"
   ]
  },
  {
   "cell_type": "code",
   "execution_count": 18,
   "metadata": {},
   "outputs": [],
   "source": [
    "all_frames_chw = {}\n",
    "for f in files:\n",
    "    frames={}\n",
    "    scenarios = get_scenario_list(f)\n",
    "    connector = sqlite3.connect(f)\n",
    "    sv = get_slack_value(f)\n",
    "    for i,s in enumerate(scenarios):\n",
    "        key = f'mga-{i}-{sv}%'\n",
    "        frames[key] = get_annual_capacity(connector, 'UIUC', 'CHW', s)\n",
    "    all_frames_chw[sv] = frames"
   ]
  },
  {
   "cell_type": "code",
   "execution_count": 19,
   "metadata": {},
   "outputs": [],
   "source": [
    "n_frames = len(all_frames_chw)\n",
    "n_techs = 1\n",
    "fig, axes = plt.subplots(n_techs,n_frames,figsize=(12,5), sharex=False, sharey=True)\n",
    "\n",
    "for j, key in enumerate(all_frames_chw):\n",
    "    val = all_frames_chw[key]\n",
    "    techs = val[list(val.keys())[0]].columns\n",
    "    xticks = list(val.keys())\n",
    "    for i, tech in enumerate(techs):\n",
    "        data = [val[k][tech][2050] for k in val.keys()]\n",
    "        axes[j].plot(xticks, data, linestyle='--', color=elc_colors[tech], marker='o', label=tech)\n",
    "#         axes[i][j].set_ylim(-1,130)\n",
    "        axes[j].grid(which='minor', linestyle='--', lw=0.5)\n",
    "        axes[j].tick_params(axis='y', labelsize=14)\n",
    "        if j == 0:\n",
    "            axes[j].set_ylabel(r'Tons of Refrigeration$', fontsize=16)\n",
    "#         if i < n_techs-1:\n",
    "#             axes[j].set_xticks([])\n",
    "#         ax2 = axes[n_frames-1].twinx()\n",
    "#         ax2.set_ylabel(tech, rotation=-90, labelpad=20)\n",
    "#         ax2.set_yticks([])\n",
    "#         ax2.tick_params(grid_alpha=0)\n",
    "#         ax2.minorticks_off()\n",
    "#         axes[n_techs-1][j].set_xticks(xticks)\n",
    "        axes[j].tick_params(axis='x',rotation=90, labelsize=16, grid_alpha=0)\n",
    "plt.suptitle('UIUC Chiled Water Capacity in 2050', fontsize=24)\n",
    "plt.legend(loc=(1.05,0.4),fontsize=14, shadow=True)\n",
    "# plt.subplots_adjust(wspace=0.01, hspace=0.01)\n",
    "plt.tight_layout()\n",
    "plt.savefig('../thesis/figures/uiuc_chw_plot.pgf')"
   ]
  },
  {
   "cell_type": "code",
   "execution_count": null,
   "metadata": {},
   "outputs": [],
   "source": [
    "cursor = conn.cursor()\n",
    "command = \"\"\"SELECT DISTINCT scenario FROM Output_VFlow_Out\"\"\"\n",
    "tab = cursor.execute(command)\n",
    "scenarios = [s[0] for s in cursor.fetchall()]\n",
    "scenarios"
   ]
  },
  {
   "cell_type": "code",
   "execution_count": null,
   "metadata": {},
   "outputs": [],
   "source": [
    "place = \"UIUC\"\n",
    "carrier = 'ELC'\n",
    "frames = []\n",
    "for s in scenarios[1:]:\n",
    "    df = get_annual_capacity(conn, place, carrier, scenario=s)\n",
    "    N = len(df)\n",
    "    df['SID'] = [s for i in range(N)]\n",
    "    frames.append(df)\n",
    "\n",
    "elc_df = pd.concat(frames)\n",
    "elc_df"
   ]
  },
  {
   "cell_type": "code",
   "execution_count": null,
   "metadata": {},
   "outputs": [],
   "source": [
    "cap_tech_df = elc_df.drop(columns='SID')"
   ]
  },
  {
   "cell_type": "code",
   "execution_count": null,
   "metadata": {},
   "outputs": [],
   "source": [
    "sb.boxenplot(data=cap_tech_df[cap_tech_df.index == 2050])"
   ]
  },
  {
   "cell_type": "code",
   "execution_count": null,
   "metadata": {},
   "outputs": [],
   "source": [
    "place = \"UIUC\"\n",
    "carrier = ['STM', 'NUC_STM']\n",
    "frames = []\n",
    "for s in scenarios[1:]:\n",
    "    df = get_annual_capacity(conn, place, carrier, scenario=s)\n",
    "    N = len(df)\n",
    "    df['SID'] = [s for i in range(N)]\n",
    "    frames.append(df)\n",
    "\n",
    "stm_df = pd.concat(frames)\n",
    "stm_df.replace(12703.504000, np.nan, inplace=True)\n",
    "stm_df"
   ]
  },
  {
   "cell_type": "code",
   "execution_count": null,
   "metadata": {},
   "outputs": [],
   "source": [
    "full_df = pd.concat([elc_df, stm_df], axis=1).drop_duplicates()\n",
    "full_df"
   ]
  },
  {
   "cell_type": "markdown",
   "metadata": {},
   "source": [
    "full_df.replace(12703.504000, np.nan, inplace=True)"
   ]
  },
  {
   "cell_type": "code",
   "execution_count": null,
   "metadata": {},
   "outputs": [],
   "source": [
    "full_cap_df = full_df.drop(columns='SID')"
   ]
  },
  {
   "cell_type": "code",
   "execution_count": null,
   "metadata": {},
   "outputs": [],
   "source": [
    "sb.boxenplot(data=full_cap_df[full_cap_df.index == 2050], palette=elc_colors)"
   ]
  },
  {
   "cell_type": "code",
   "execution_count": null,
   "metadata": {},
   "outputs": [],
   "source": [
    "fig, axes = plt.subplots(1,2, sharey=True, gridspec_kw={'width_ratios': [3, 1]})\n",
    "sb.boxenplot(ax=axes[1], data=stm_df.drop(columns=\"SID\").loc[2050], palette=elc_colors)\n",
    "sb.boxenplot(ax=axes[0], data=elc_df.drop(columns=\"SID\").loc[2050], palette=elc_colors)\n",
    "axes[0].set_ylabel('Installed Capacity [MW$_e$]', fontsize=20)\n",
    "axes[1].set_ylabel('Installed Capacity [MW$_{th}$]', fontsize=20)\n",
    "plt.suptitle('Variability of Installed Capacity in 2050\\nMGA Sensitivity', fontsize=24)\n",
    "plt.tight_layout()"
   ]
  },
  {
   "cell_type": "code",
   "execution_count": null,
   "metadata": {},
   "outputs": [],
   "source": [
    "place = \"UIUC\"\n",
    "carrier = 'CHW'\n",
    "frames = []\n",
    "for s in scenarios[1:]:\n",
    "    df = get_annual_capacity(conn, place, carrier, scenario=s)\n",
    "    N = len(df)\n",
    "    df['SID'] = [s for i in range(N)]\n",
    "    frames.append(df)\n",
    "\n",
    "cw_df = pd.concat(frames)\n",
    "cw_df.replace(12703.504000, np.nan, inplace=True)\n",
    "cw_df"
   ]
  },
  {
   "cell_type": "code",
   "execution_count": null,
   "metadata": {},
   "outputs": [],
   "source": [
    "sb.boxenplot(data=cw_df.drop(columns='SID').loc[2050])"
   ]
  },
  {
   "cell_type": "code",
   "execution_count": null,
   "metadata": {},
   "outputs": [],
   "source": [
    "sb.lineplot(data=elc_df.drop(columns='SID'), palette=elc_colors)"
   ]
  },
  {
   "cell_type": "code",
   "execution_count": null,
   "metadata": {},
   "outputs": [],
   "source": [
    "v = list(elc_df.columns)\n",
    "i = list(range(len(v)))\n",
    "d = dict(zip(v,i))"
   ]
  },
  {
   "cell_type": "markdown",
   "metadata": {
    "scrolled": false
   },
   "source": [
    "sb.lineplot(x=elc_df['SID'],y=elc_df.iloc[d['SOLAR_FARM']], palette=elc_colors)"
   ]
  },
  {
   "cell_type": "code",
   "execution_count": null,
   "metadata": {},
   "outputs": [],
   "source": [
    "sb.pairplot(full_df.drop(columns='SID').groupby(elc_df.index).get_group(2050))"
   ]
  },
  {
   "cell_type": "code",
   "execution_count": null,
   "metadata": {},
   "outputs": [],
   "source": []
  }
 ],
 "metadata": {
  "kernelspec": {
   "display_name": "Python 3",
   "language": "python",
   "name": "python3"
  },
  "language_info": {
   "codemirror_mode": {
    "name": "ipython",
    "version": 3
   },
   "file_extension": ".py",
   "mimetype": "text/x-python",
   "name": "python",
   "nbconvert_exporter": "python",
   "pygments_lexer": "ipython3",
   "version": "3.8.3"
  }
 },
 "nbformat": 4,
 "nbformat_minor": 4
}
